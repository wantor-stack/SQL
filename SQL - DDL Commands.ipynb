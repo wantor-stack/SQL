{
 "cells": [
  {
   "cell_type": "markdown",
   "metadata": {},
   "source": [
    "<center>\n",
    "    <img src=\"https://s3-api.us-geo.objectstorage.softlayer.net/cf-courses-data/CognitiveClass/Logos/organization_logo/organization_logo.png\" width=\"300\" alt=\"cognitiveclass.ai logo\"  />\n",
    "</center>\n",
    "\n",
    "# DDL Commands in SQL\n",
    "\n",
    "### This Notebook is a part of my studies for IBM Certification in Data Science Professional\n",
    "\n",
    "## What I learned:\n",
    "\n",
    "- Create Table\n",
    "- Alter Table\n",
    "- Truncate Table\n",
    "- Drop Table\n"
   ]
  },
  {
   "cell_type": "markdown",
   "metadata": {
    "toc": true
   },
   "source": [
    "<h1>Table of Contents<span class=\"tocSkip\"></span></h1>\n",
    "<div class=\"toc\"><ul class=\"toc-item\"><li><span><a href=\"#SQL---DDL-Comands\" data-toc-modified-id=\"SQL---DDL-Comands-1\"><span class=\"toc-item-num\">1&nbsp;&nbsp;</span>SQL - DDL Comands</a></span><ul class=\"toc-item\"><li><span><a href=\"#CREATE-TABLE\" data-toc-modified-id=\"CREATE-TABLE-1.1\"><span class=\"toc-item-num\">1.1&nbsp;&nbsp;</span>CREATE TABLE</a></span></li><li><span><a href=\"#ALTER-TABLE\" data-toc-modified-id=\"ALTER-TABLE-1.2\"><span class=\"toc-item-num\">1.2&nbsp;&nbsp;</span>ALTER TABLE</a></span><ul class=\"toc-item\"><li><span><a href=\"#ALTER-using-ADD-COLUMN\" data-toc-modified-id=\"ALTER-using-ADD-COLUMN-1.2.1\"><span class=\"toc-item-num\">1.2.1&nbsp;&nbsp;</span>ALTER using ADD COLUMN</a></span></li><li><span><a href=\"#ALTER-using-DROP-COLUMN\" data-toc-modified-id=\"ALTER-using-DROP-COLUMN-1.2.2\"><span class=\"toc-item-num\">1.2.2&nbsp;&nbsp;</span>ALTER using DROP COLUMN</a></span></li><li><span><a href=\"#ALTER-using-ALTER-COLUMN\" data-toc-modified-id=\"ALTER-using-ALTER-COLUMN-1.2.3\"><span class=\"toc-item-num\">1.2.3&nbsp;&nbsp;</span>ALTER using ALTER COLUMN</a></span></li><li><span><a href=\"#ALTER-using-RENAME-COLUMN\" data-toc-modified-id=\"ALTER-using-RENAME-COLUMN-1.2.4\"><span class=\"toc-item-num\">1.2.4&nbsp;&nbsp;</span>ALTER using RENAME COLUMN</a></span></li></ul></li><li><span><a href=\"#TRUNCATE-TABLE\" data-toc-modified-id=\"TRUNCATE-TABLE-1.3\"><span class=\"toc-item-num\">1.3&nbsp;&nbsp;</span>TRUNCATE TABLE</a></span></li><li><span><a href=\"#DROP-TABLE\" data-toc-modified-id=\"DROP-TABLE-1.4\"><span class=\"toc-item-num\">1.4&nbsp;&nbsp;</span>DROP TABLE</a></span></li></ul></li></ul></div>"
   ]
  },
  {
   "cell_type": "markdown",
   "metadata": {},
   "source": [
    "# SQL - DDL Comands"
   ]
  },
  {
   "cell_type": "markdown",
   "metadata": {
    "ExecuteTime": {
     "end_time": "2021-02-25T19:25:02.687455Z",
     "start_time": "2021-02-25T19:25:02.680475Z"
    }
   },
   "source": [
    "  --> *Data Definition Language (or DDL) statements are used to define, change, or delete database objects such as tables.*\n",
    " \n",
    " What I learned:\n",
    " \n",
    "\n",
    "* *Create and Drop tables in the database*"
   ]
  },
  {
   "cell_type": "markdown",
   "metadata": {
    "heading_collapsed": true
   },
   "source": [
    "## CREATE TABLE"
   ]
  },
  {
   "cell_type": "code",
   "execution_count": 3,
   "metadata": {
    "ExecuteTime": {
     "end_time": "2021-02-25T19:27:57.706492Z",
     "start_time": "2021-02-25T19:27:57.657566Z"
    },
    "hidden": true
   },
   "outputs": [
    {
     "data": {
      "text/plain": [
       "'\\n#Synthax:\\n\\ncreate table TABLENAME ( COLUMN1 datatype, COLUMN2 datatype, COLUMN3 datatype, ... );\\n'"
      ]
     },
     "execution_count": 3,
     "metadata": {},
     "output_type": "execute_result"
    }
   ],
   "source": [
    "\"\"\"\n",
    "# Synthax:\n",
    "\n",
    "CREATE TABLE table_name (\n",
    "    column1 datatype,\n",
    "    column2 datatype,\n",
    "    column3 datatype,\n",
    "   ....\n",
    ");\n",
    "\n",
    "\"\"\""
   ]
  },
  {
   "cell_type": "code",
   "execution_count": null,
   "metadata": {
    "hidden": true
   },
   "outputs": [],
   "source": [
    "### Examples\n",
    "### Create two tables, PETSALE and PET.\n",
    "'''\n",
    "CREATE TABLE PETSALE (\n",
    "    ID INTEGER NOT NULL,\n",
    "    PET CHAR(20),\n",
    "    SALEPRICE DECIMAL(6,2),\n",
    "    PROFIT DECIMAL(6,2),\n",
    "    SALEDATE DATE\n",
    "    );\n",
    "    \n",
    "CREATE TABLE PET (\n",
    "    ID INTEGER NOT NULL,\n",
    "    ANIMAL VARCHAR(20),\n",
    "    QUANTITY INTEGER\n",
    "    );\n",
    "'''"
   ]
  },
  {
   "cell_type": "code",
   "execution_count": null,
   "metadata": {
    "hidden": true
   },
   "outputs": [],
   "source": [
    "## Insert some records into the two newly created tables \n",
    "'''\n",
    "INSERT INTO PETSALE VALUES\n",
    "    (1,'Cat',450.09,100.47,'2018-05-29'),\n",
    "    (2,'Dog',666.66,150.76,'2018-06-01'),\n",
    "    (3,'Parrot',50.00,8.9,'2018-06-04'),\n",
    "    (4,'Hamster',60.60,12,'2018-06-11'),\n",
    "    (5,'Goldfish',48.48,3.5,'2018-06-14');\n",
    "    \n",
    "INSERT INTO PET VALUES\n",
    "    (1,'Cat',3),\n",
    "    (2,'Dog',4),\n",
    "    (3,'Hamster',2);\n",
    "    \n",
    "SELECT * FROM PETSALE;\n",
    "SELECT * FROM PET;\n",
    "'''"
   ]
  },
  {
   "cell_type": "markdown",
   "metadata": {
    "heading_collapsed": true
   },
   "source": [
    "## ALTER TABLE"
   ]
  },
  {
   "cell_type": "code",
   "execution_count": null,
   "metadata": {
    "hidden": true
   },
   "outputs": [],
   "source": [
    "\"\"\"\n",
    "# Synthax:\n",
    "\n",
    "ALTER TABLE table_name\n",
    "ADD COLUMN column_name data_type column_constraint;\n",
    "\n",
    "ALTER TABLE table_name\n",
    "DROP COLUMN column_name;\n",
    "\n",
    "ALTER TABLE table_name\n",
    "ALTER COLUMN column_name SET DATA TYPE data_type;\n",
    "\n",
    "ALTER TABLE table_name\n",
    "RENAME COLUMN current_column_name TO new_column_name;\n",
    "\n",
    "\"\"\""
   ]
  },
  {
   "cell_type": "markdown",
   "metadata": {
    "hidden": true
   },
   "source": [
    "### ALTER using ADD COLUMN\n"
   ]
  },
  {
   "cell_type": "code",
   "execution_count": null,
   "metadata": {
    "hidden": true
   },
   "outputs": [],
   "source": [
    "\n",
    "# Add a new QUANTITY column to the PETSALE table and show the altered table.\n",
    "'''\n",
    "ALTER TABLE PETSALE\n",
    "ADD COLUMN QUANTITY INTEGER;\n",
    "\n",
    "SELECT * FROM PETSALE;\n",
    "'''"
   ]
  },
  {
   "cell_type": "code",
   "execution_count": null,
   "metadata": {
    "hidden": true
   },
   "outputs": [],
   "source": [
    "# Now update the newly added QUANTITY column of the PETSALE table with some values \n",
    "# and show all the records of the table.\n",
    "\n",
    "'''\n",
    "UPDATE PETSALE SET QUANTITY = 9 WHERE ID = 1;\n",
    "UPDATE PETSALE SET QUANTITY = 3 WHERE ID = 2;\n",
    "UPDATE PETSALE SET QUANTITY = 2 WHERE ID = 3;\n",
    "UPDATE PETSALE SET QUANTITY = 6 WHERE ID = 4;\n",
    "UPDATE PETSALE SET QUANTITY = 24 WHERE ID = 5;\n",
    "\n",
    "SELECT * FROM PETSALE;\n",
    "'''"
   ]
  },
  {
   "cell_type": "markdown",
   "metadata": {
    "hidden": true
   },
   "source": [
    "### ALTER using DROP COLUMN"
   ]
  },
  {
   "cell_type": "code",
   "execution_count": null,
   "metadata": {
    "hidden": true
   },
   "outputs": [],
   "source": [
    "# Delete the PROFIT column from the PETSALE table and show the altered table.\n",
    "\n",
    "'''\n",
    "ALTER TABLE PETSALE\n",
    "DROP COLUMN PROFIT;\n",
    "\n",
    "SELECT * FROM PETSALE;\n",
    "'''"
   ]
  },
  {
   "cell_type": "markdown",
   "metadata": {
    "hidden": true
   },
   "source": [
    "### ALTER using ALTER COLUMN"
   ]
  },
  {
   "cell_type": "code",
   "execution_count": null,
   "metadata": {
    "hidden": true
   },
   "outputs": [],
   "source": [
    "# Change the data type to VARCHAR(20) type of the column PET of the table PETSALE \n",
    "# and show the altered table.\n",
    "\n",
    "'''\n",
    "ALTER TABLE PETSALE\n",
    "ALTER COLUMN PET SET DATA TYPE VARCHAR(20);\n",
    "\n",
    "SELECT * FROM PETSALE;\n",
    "'''"
   ]
  },
  {
   "cell_type": "markdown",
   "metadata": {
    "hidden": true
   },
   "source": [
    "### ALTER using RENAME COLUMN"
   ]
  },
  {
   "cell_type": "code",
   "execution_count": null,
   "metadata": {
    "hidden": true
   },
   "outputs": [],
   "source": [
    "# Rename the column PET to ANIMAL of the PETSALE table and show the altered table.\n",
    "\n",
    "'''\n",
    "ALTER TABLE PETSALE\n",
    "RENAME COLUMN PET TO ANIMAL;\n",
    "\n",
    "SELECT * FROM PETSALE;\n",
    "'''"
   ]
  },
  {
   "cell_type": "markdown",
   "metadata": {
    "heading_collapsed": true
   },
   "source": [
    "## TRUNCATE TABLE"
   ]
  },
  {
   "cell_type": "code",
   "execution_count": null,
   "metadata": {
    "hidden": true
   },
   "outputs": [],
   "source": [
    "\"\"\"\n",
    "# Synthax:\n",
    "\n",
    "TRUNCATE TABLE table_name;\n",
    "\n",
    "\"\"\""
   ]
  },
  {
   "cell_type": "code",
   "execution_count": null,
   "metadata": {
    "hidden": true
   },
   "outputs": [],
   "source": [
    "# Remove all rows from the PET table and show the empty table. \n",
    "\n",
    "'''\n",
    "TRUNCATE TABLE PET IMMEDIATE;\n",
    "\n",
    "SELECT * FROM PET;\n",
    "'''"
   ]
  },
  {
   "cell_type": "markdown",
   "metadata": {},
   "source": [
    "## DROP TABLE"
   ]
  },
  {
   "cell_type": "code",
   "execution_count": null,
   "metadata": {},
   "outputs": [],
   "source": [
    "\"\"\"\n",
    "# Synthax:\n",
    "\n",
    "DROP TABLE table_name;\n",
    "\n",
    "\"\"\""
   ]
  },
  {
   "cell_type": "code",
   "execution_count": null,
   "metadata": {},
   "outputs": [],
   "source": [
    "# Delete the PET table and \n",
    "# verify if the table still exists or not (SELECT statement won't work if a table doesn't exist)\n",
    "'''\n",
    "DROP TABLE PET;\n",
    "\n",
    "SELECT * FROM PET;\n",
    "\n",
    "'''"
   ]
  },
  {
   "cell_type": "markdown",
   "metadata": {},
   "source": [
    "<h2>About the Author:</h2> \n",
    "\n",
    "<a href=\"https://www.linkedin.com/in/wanderson-torres-31049522/\">Wanderson Torres</a>\n"
   ]
  }
 ],
 "metadata": {
  "hide_input": false,
  "kernelspec": {
   "display_name": "Python 3",
   "language": "python",
   "name": "python3"
  },
  "language_info": {
   "codemirror_mode": {
    "name": "ipython",
    "version": 3
   },
   "file_extension": ".py",
   "mimetype": "text/x-python",
   "name": "python",
   "nbconvert_exporter": "python",
   "pygments_lexer": "ipython3",
   "version": "3.8.3"
  },
  "toc": {
   "base_numbering": 1,
   "nav_menu": {},
   "number_sections": true,
   "sideBar": true,
   "skip_h1_title": false,
   "title_cell": "Table of Contents",
   "title_sidebar": "Contents",
   "toc_cell": true,
   "toc_position": {},
   "toc_section_display": true,
   "toc_window_display": false
  },
  "varInspector": {
   "cols": {
    "lenName": 16,
    "lenType": 16,
    "lenVar": 40
   },
   "kernels_config": {
    "python": {
     "delete_cmd_postfix": "",
     "delete_cmd_prefix": "del ",
     "library": "var_list.py",
     "varRefreshCmd": "print(var_dic_list())"
    },
    "r": {
     "delete_cmd_postfix": ") ",
     "delete_cmd_prefix": "rm(",
     "library": "var_list.r",
     "varRefreshCmd": "cat(var_dic_list()) "
    }
   },
   "types_to_exclude": [
    "module",
    "function",
    "builtin_function_or_method",
    "instance",
    "_Feature"
   ],
   "window_display": false
  }
 },
 "nbformat": 4,
 "nbformat_minor": 4
}
