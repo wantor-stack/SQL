{
 "cells": [
  {
   "cell_type": "code",
   "execution_count": null,
   "metadata": {},
   "outputs": [],
   "source": []
  },
  {
   "cell_type": "markdown",
   "metadata": {},
   "source": [
    "<center>\n",
    "    <img src=\"https://s3-api.us-geo.objectstorage.softlayer.net/cf-courses-data/CognitiveClass/Logos/organization_logo/organization_logo.png\" width=\"300\" alt=\"cognitiveclass.ai logo\"  />\n",
    "</center>\n",
    "\n",
    "# Resume Working with Data in Python\n",
    "\n",
    "### This Notebook is a part of my studies for IBM Certification in Data Science Professional\n",
    "\n",
    "## What I learned:\n",
    "\n",
    "- Acessing Data with Python and API's\n",
    "- SQL API COMMANDS\n",
    "- Writing code using DB-API\n",
    "- Creating tables, loading data and querying data with PANDAS\n",
    "- Using SQL magic commands\n"
   ]
  },
  {
   "cell_type": "markdown",
   "metadata": {
    "toc": true
   },
   "source": [
    "<h1>Table of Contents<span class=\"tocSkip\"></span></h1>\n",
    "<div class=\"toc\"><ul class=\"toc-item\"><li><span><a href=\"#Acessing-Data-with-Python\" data-toc-modified-id=\"Acessing-Data-with-Python-1\"><span class=\"toc-item-num\">1&nbsp;&nbsp;</span>Acessing Data with Python</a></span></li><li><span><a href=\"#Writing-code-using-DB-API\" data-toc-modified-id=\"Writing-code-using-DB-API-2\"><span class=\"toc-item-num\">2&nbsp;&nbsp;</span>Writing code using DB-API</a></span></li><li><span><a href=\"#Creating-tables,-loading-data-and-querying-data\" data-toc-modified-id=\"Creating-tables,-loading-data-and-querying-data-3\"><span class=\"toc-item-num\">3&nbsp;&nbsp;</span>Creating tables, loading data and querying data</a></span></li><li><span><a href=\"#SQL-magic-commands\" data-toc-modified-id=\"SQL-magic-commands-4\"><span class=\"toc-item-num\">4&nbsp;&nbsp;</span>SQL magic commands</a></span></li></ul></div>"
   ]
  },
  {
   "cell_type": "markdown",
   "metadata": {},
   "source": [
    "# Acessing Data with Python"
   ]
  },
  {
   "cell_type": "markdown",
   "metadata": {
    "ExecuteTime": {
     "end_time": "2021-02-27T22:48:35.246435Z",
     "start_time": "2021-02-27T22:48:35.224482Z"
    }
   },
   "source": [
    "MAIN API's\n",
    "<img src=\"images/SQLs_APIs.png\" alt=\"HR_Database\" style=\"height: 400px; width:500px;\"/>"
   ]
  },
  {
   "cell_type": "markdown",
   "metadata": {
    "ExecuteTime": {
     "end_time": "2021-02-27T22:51:35.021645Z",
     "start_time": "2021-02-27T22:51:35.001667Z"
    }
   },
   "source": [
    "SQL API COMMANDS\n",
    "\n",
    "<img src=\"images/Python_SQL_API_Commands.png\" alt=\"HR_Database\" style=\"height: 400px; width:500px;\"/>"
   ]
  },
  {
   "cell_type": "markdown",
   "metadata": {},
   "source": [
    "# Writing code using DB-API\n"
   ]
  },
  {
   "cell_type": "markdown",
   "metadata": {
    "ExecuteTime": {
     "end_time": "2021-02-27T23:02:53.799909Z",
     "start_time": "2021-02-27T23:02:53.778929Z"
    }
   },
   "source": [
    "<img src=\"images/cursor_methods.PNG\" alt=\"HR_Database\" style=\"height: 300px; width:400px;\"/>"
   ]
  },
  {
   "cell_type": "markdown",
   "metadata": {},
   "source": [
    "<img src=\"images/coding_using_DB_API.PNG\" alt=\"HR_Database\" style=\"height: 400px; width:600px;\"/>"
   ]
  },
  {
   "cell_type": "markdown",
   "metadata": {},
   "source": [
    "# Creating tables, loading data and querying data"
   ]
  },
  {
   "cell_type": "markdown",
   "metadata": {},
   "source": [
    "<img src=\"images/using_pandas_to_show_sql_query.PNG\" alt=\"HR_Database\" style=\"height: 400px; width:600px;\"/>"
   ]
  },
  {
   "cell_type": "markdown",
   "metadata": {},
   "source": [
    "# SQL magic commands"
   ]
  },
  {
   "cell_type": "code",
   "execution_count": null,
   "metadata": {},
   "outputs": [],
   "source": [
    "Jupyter notebooks have a concept of Magic commands that can simplify working with Python, \n",
    "and are particularly useful for data analysis. Your notebooks can have two types of magic commands:\n",
    "\n",
    "Cell magics: start with a double %% sign and apply to the entire cell\n",
    "\n",
    "Line magics: start with a single % (percent) sign and apply to a particular line in a cell\n",
    "\n",
    "Their usage is of the format:\n",
    "\n",
    "%magicname arguments\n",
    "\n",
    "So far in the course you learned to accessed data from a database using the Python DB-API \n",
    "(and specifically ibm_db). With this API execution of queries and fetching their results involves \n",
    "multiple steps. You can use the SQL Magic commands to execute queries more easily.\n",
    "\n",
    "For example if you want to execute the a query to select some data from a table and fetch its results, \n",
    "you can simply enter a command like the following in your Jupyter notebook cell:\n",
    "\n",
    "%sql select * from tablename\n",
    "\n",
    "Although SQL magic simplifies working with databases, it has some limitations. \n",
    "For example, unlike DB-API, there are no explicit methods to close a connection and free up resources."
   ]
  },
  {
   "cell_type": "markdown",
   "metadata": {},
   "source": [
    "<h2>About the Author:</h2> \n",
    "\n",
    "<a href=\"https://www.linkedin.com/in/wanderson-torres-31049522/\">Wanderson Torres</a>\n"
   ]
  }
 ],
 "metadata": {
  "hide_input": false,
  "kernelspec": {
   "display_name": "Python 3",
   "language": "python",
   "name": "python3"
  },
  "language_info": {
   "codemirror_mode": {
    "name": "ipython",
    "version": 3
   },
   "file_extension": ".py",
   "mimetype": "text/x-python",
   "name": "python",
   "nbconvert_exporter": "python",
   "pygments_lexer": "ipython3",
   "version": "3.8.3"
  },
  "toc": {
   "base_numbering": 1,
   "nav_menu": {},
   "number_sections": true,
   "sideBar": true,
   "skip_h1_title": false,
   "title_cell": "Table of Contents",
   "title_sidebar": "Contents",
   "toc_cell": true,
   "toc_position": {},
   "toc_section_display": true,
   "toc_window_display": false
  },
  "varInspector": {
   "cols": {
    "lenName": 16,
    "lenType": 16,
    "lenVar": 40
   },
   "kernels_config": {
    "python": {
     "delete_cmd_postfix": "",
     "delete_cmd_prefix": "del ",
     "library": "var_list.py",
     "varRefreshCmd": "print(var_dic_list())"
    },
    "r": {
     "delete_cmd_postfix": ") ",
     "delete_cmd_prefix": "rm(",
     "library": "var_list.r",
     "varRefreshCmd": "cat(var_dic_list()) "
    }
   },
   "types_to_exclude": [
    "module",
    "function",
    "builtin_function_or_method",
    "instance",
    "_Feature"
   ],
   "window_display": false
  }
 },
 "nbformat": 4,
 "nbformat_minor": 4
}
