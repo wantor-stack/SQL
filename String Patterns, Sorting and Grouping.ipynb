{
 "cells": [
  {
   "cell_type": "markdown",
   "metadata": {},
   "source": [
    "<center>\n",
    "    <img src=\"https://s3-api.us-geo.objectstorage.softlayer.net/cf-courses-data/CognitiveClass/Logos/organization_logo/organization_logo.png\" width=\"300\" alt=\"cognitiveclass.ai logo\"  />\n",
    "</center>\n",
    "\n",
    "# String Patterns, Sorting and Grouping in SQL\n",
    "\n",
    "### This Notebook is a part of my studies for IBM Certification in Data Science Professional\n",
    "\n",
    "## What I learned:\n",
    "\n",
    "- LIKE, BETWEEN, % \n",
    "- ORDER BY\n",
    "- GROUP BY\n",
    "- HAVING \n"
   ]
  },
  {
   "cell_type": "markdown",
   "metadata": {
    "toc": true
   },
   "source": [
    "<h1>Table of Contents<span class=\"tocSkip\"></span></h1>\n",
    "<div class=\"toc\"><ul class=\"toc-item\"><li><span><a href=\"#String-Patterns,-Sorting-and-Grouping\" data-toc-modified-id=\"String-Patterns,-Sorting-and-Grouping-1\"><span class=\"toc-item-num\">1&nbsp;&nbsp;</span>String Patterns, Sorting and Grouping</a></span><ul class=\"toc-item\"><li><span><a href=\"#STRING-PATTERNS\" data-toc-modified-id=\"STRING-PATTERNS-1.1\"><span class=\"toc-item-num\">1.1&nbsp;&nbsp;</span>STRING PATTERNS</a></span><ul class=\"toc-item\"><li><span><a href=\"#Exercise-1:\" data-toc-modified-id=\"Exercise-1:-1.1.1\"><span class=\"toc-item-num\">1.1.1&nbsp;&nbsp;</span>Exercise 1:</a></span></li><li><span><a href=\"#Exercise-2\" data-toc-modified-id=\"Exercise-2-1.1.2\"><span class=\"toc-item-num\">1.1.2&nbsp;&nbsp;</span>Exercise 2</a></span></li><li><span><a href=\"#Exercise-3:\" data-toc-modified-id=\"Exercise-3:-1.1.3\"><span class=\"toc-item-num\">1.1.3&nbsp;&nbsp;</span>Exercise 3:</a></span></li></ul></li><li><span><a href=\"#Sorting\" data-toc-modified-id=\"Sorting-1.2\"><span class=\"toc-item-num\">1.2&nbsp;&nbsp;</span>Sorting</a></span><ul class=\"toc-item\"><li><span><a href=\"#Exercise-4:\" data-toc-modified-id=\"Exercise-4:-1.2.1\"><span class=\"toc-item-num\">1.2.1&nbsp;&nbsp;</span>Exercise 4:</a></span></li><li><span><a href=\"#Exercise-5:\" data-toc-modified-id=\"Exercise-5:-1.2.2\"><span class=\"toc-item-num\">1.2.2&nbsp;&nbsp;</span>Exercise 5:</a></span></li><li><span><a href=\"#Exercise-6:\" data-toc-modified-id=\"Exercise-6:-1.2.3\"><span class=\"toc-item-num\">1.2.3&nbsp;&nbsp;</span>Exercise 6:</a></span></li></ul></li><li><span><a href=\"#Grouping\" data-toc-modified-id=\"Grouping-1.3\"><span class=\"toc-item-num\">1.3&nbsp;&nbsp;</span>Grouping</a></span><ul class=\"toc-item\"><li><span><a href=\"#Exercise-7:\" data-toc-modified-id=\"Exercise-7:-1.3.1\"><span class=\"toc-item-num\">1.3.1&nbsp;&nbsp;</span>Exercise 7:</a></span></li><li><span><a href=\"#Exercise-8:\" data-toc-modified-id=\"Exercise-8:-1.3.2\"><span class=\"toc-item-num\">1.3.2&nbsp;&nbsp;</span>Exercise 8:</a></span></li><li><span><a href=\"#Exercise-9:\" data-toc-modified-id=\"Exercise-9:-1.3.3\"><span class=\"toc-item-num\">1.3.3&nbsp;&nbsp;</span>Exercise 9:</a></span></li><li><span><a href=\"#Exercise-10:\" data-toc-modified-id=\"Exercise-10:-1.3.4\"><span class=\"toc-item-num\">1.3.4&nbsp;&nbsp;</span>Exercise 10:</a></span></li><li><span><a href=\"#Exercise-11:\" data-toc-modified-id=\"Exercise-11:-1.3.5\"><span class=\"toc-item-num\">1.3.5&nbsp;&nbsp;</span>Exercise 11:</a></span></li></ul></li></ul></li></ul></div>"
   ]
  },
  {
   "cell_type": "markdown",
   "metadata": {},
   "source": [
    "# String Patterns, Sorting and Grouping"
   ]
  },
  {
   "cell_type": "markdown",
   "metadata": {
    "ExecuteTime": {
     "end_time": "2021-02-26T13:17:00.308577Z",
     "start_time": "2021-02-26T13:16:59.018439Z"
    }
   },
   "source": [
    "\n",
    "The database used in this lab is an internal database IBM DB2. \n",
    "I worked on a sample HR database. \n",
    "This HR database schema consists of 5 tables called EMPLOYEES, JOB_HISTORY, JOBS, DEPARTMENTS and LOCATIONS. \n",
    "Each table has a few rows of sample data. The following diagram shows the tables for the HR database:\n",
    "\n"
   ]
  },
  {
   "cell_type": "markdown",
   "metadata": {},
   "source": [
    "<img src=\"images/HR_Database.png\" alt=\"HR_Database\" style=\"height: 700px; width:700px;\"/>"
   ]
  },
  {
   "cell_type": "markdown",
   "metadata": {},
   "source": [
    "## STRING PATTERNS"
   ]
  },
  {
   "cell_type": "markdown",
   "metadata": {},
   "source": [
    "### Exercise 1:\n",
    "\n",
    "Problem:\n",
    "\n",
    "    Retrieve all employees who were born during the 1970's.\n",
    "    \n",
    "Solution:\n",
    "\n",
    "SELECT F_NAME , L_NAME\n",
    "\n",
    "FROM EMPLOYEES\n",
    "\n",
    "WHERE B_DATE LIKE '197%';"
   ]
  },
  {
   "cell_type": "markdown",
   "metadata": {},
   "source": [
    "### Exercise 2\n",
    "Problem:\n",
    "\n",
    "    Retrieve all employees whose address is in Elgin,IL.\n",
    "  \n",
    "Solution:\n",
    "\n",
    "SELECT F_NAME , L_NAME\n",
    "\n",
    "FROM EMPLOYEES\n",
    "\n",
    "WHERE ADDRESS LIKE '%Elgin,IL%';\n"
   ]
  },
  {
   "cell_type": "markdown",
   "metadata": {},
   "source": [
    "### Exercise 3:\n",
    "\n",
    "Problem:\n",
    "\n",
    "    Retrieve all employees in department 5 whose salary is between 60000 and 70000.\n",
    "    \n",
    "Solution:\n",
    "    \n",
    "SELECT *\n",
    "\n",
    "FROM EMPLOYEES\n",
    "\n",
    "WHERE (SALARY BETWEEN 60000 AND 70000) AND DEP_ID = 5;"
   ]
  },
  {
   "cell_type": "markdown",
   "metadata": {},
   "source": [
    "## Sorting"
   ]
  },
  {
   "cell_type": "markdown",
   "metadata": {},
   "source": [
    "### Exercise 4:\n",
    "\n",
    "Problem:\n",
    "\n",
    "    Retrieve a list of employees ordered by department ID.\n",
    "    \n",
    "Solution:\n",
    "    \n",
    "SELECT F_NAME, L_NAME, DEP_ID \n",
    "\n",
    "FROM EMPLOYEES\n",
    "\n",
    "ORDER BY DEP_ID;"
   ]
  },
  {
   "cell_type": "markdown",
   "metadata": {},
   "source": [
    "### Exercise 5:\n",
    "\n",
    "Problem:\n",
    "\n",
    "    Retrieve a list of employees ordered in descending order by department ID and within each department ordered alphabetically in descending order by last name.\n",
    "    \n",
    "Solution:\n",
    "    \n",
    "SELECT F_NAME, L_NAME, DEP_ID \n",
    "\n",
    "FROM EMPLOYEES\n",
    "\n",
    "ORDER BY DEP_ID DESC, L_NAME DESC;"
   ]
  },
  {
   "cell_type": "markdown",
   "metadata": {},
   "source": [
    "### Exercise 6:\n",
    "\n",
    "Problem:\n",
    "\n",
    "    Retrieve a list of employees ordered by department name, and within each department ordered alphabetically in descending order by last name.\n",
    "\n",
    "Solution:\n",
    "\n",
    "SELECT D.DEP_NAME , E.F_NAME, E.L_NAME\n",
    "\n",
    "FROM EMPLOYEES as E, DEPARTMENTS as D\n",
    "\n",
    "WHERE E.DEP_ID = D.DEPT_ID_DEP\n",
    "\n",
    "ORDER BY D.DEP_NAME, E.L_NAME DESC;   \n",
    "   \n",
    "<br>   \n",
    "           *> In the SQL Query above, D and E are aliases for the table names. \n",
    "           Once you define an alias like D in your query, \n",
    "           you can simply write D.COLUMN_NAME rather than the full form DEPARTMENTS.COLUMN_NAME.*"
   ]
  },
  {
   "cell_type": "markdown",
   "metadata": {
    "ExecuteTime": {
     "end_time": "2021-02-26T13:39:37.692316Z",
     "start_time": "2021-02-26T13:39:37.595917Z"
    }
   },
   "source": [
    "## Grouping"
   ]
  },
  {
   "cell_type": "markdown",
   "metadata": {},
   "source": [
    "### Exercise 7:\n",
    "\n",
    "Problem:\n",
    "\n",
    "    For each department ID retrieve the number of employees in the department.\n",
    "    \n",
    "Solution:\n",
    "    \n",
    "SELECT DEP_ID, COUNT(*)\n",
    "\n",
    "FROM EMPLOYEES\n",
    "\n",
    "GROUP BY DEP_ID;"
   ]
  },
  {
   "cell_type": "markdown",
   "metadata": {},
   "source": [
    "### Exercise 8:\n",
    "\n",
    "Problem:\n",
    "\n",
    "    For each department retrieve the number of employees in the department, and the average employee salary in the department.\n",
    "    \n",
    "Solution:\n",
    "    \n",
    "SELECT DEP_ID, COUNT(*), AVG(SALARY)\n",
    "\n",
    "FROM EMPLOYEES\n",
    "\n",
    "GROUP BY DEP_ID;"
   ]
  },
  {
   "cell_type": "markdown",
   "metadata": {},
   "source": [
    "### Exercise 9:\n",
    "\n",
    "Problem:\n",
    "\n",
    "    Label the computed columns in the result set of SQL problem 2 (Exercise 3 Problem 2) as NUM_EMPLOYEES and AVG_SALARY.\n",
    "    \n",
    "Solution:\n",
    "    \n",
    "SELECT DEP_ID, COUNT(*) AS \"NUM_EMPLOYEES\", AVG(SALARY) AS \"AVG_SALARY\"\n",
    "\n",
    "FROM EMPLOYEES\n",
    "\n",
    "GROUP BY DEP_ID;"
   ]
  },
  {
   "cell_type": "markdown",
   "metadata": {},
   "source": [
    "### Exercise 10:\n",
    "\n",
    "Problem:\n",
    "\n",
    "    In Exercise 9, order the result set by Average Salary..\n",
    "    \n",
    "Solution:\n",
    "    \n",
    "SELECT DEP_ID, COUNT(*) AS \"NUM_EMPLOYEES\", AVG(SALARY) AS \"AVG_SALARY\"\n",
    "\n",
    "FROM EMPLOYEES\n",
    "\n",
    "GROUP BY DEP_ID\n",
    "\n",
    "ORDER BY AVG_SALARY;"
   ]
  },
  {
   "cell_type": "markdown",
   "metadata": {},
   "source": [
    "### Exercise 11:\n",
    "\n",
    "Problem:\n",
    "\n",
    "    In Exercise 11, limit the result to departments with fewer than 4 employees.\n",
    "    \n",
    "Solution:\n",
    "    \n",
    "SELECT DEP_ID, COUNT(*) AS \"NUM_EMPLOYEES\", AVG(SALARY) AS \"AVG_SALARY\"\n",
    "\n",
    "FROM EMPLOYEES\n",
    "\n",
    "GROUP BY DEP_ID\n",
    "\n",
    "HAVING count(*) < 4\n",
    "\n",
    "ORDER BY AVG_SALARY;"
   ]
  },
  {
   "cell_type": "code",
   "execution_count": 3,
   "metadata": {
    "ExecuteTime": {
     "end_time": "2021-02-26T14:41:22.945994Z",
     "start_time": "2021-02-26T14:41:22.375701Z"
    }
   },
   "outputs": [
    {
     "data": {
      "text/plain": [
       "'\\nWe can use the WHERE clause to refine your query results.\\nWe can use the wildcard character (%) as a substitute for unknown characters in a pattern.\\nWe can use BETWEEN ... AND ... to specify a range of numbers.\\nWe can sort query results into ascending or descending order, using the ORDER BY clause to specify the column to sort on.\\nWe can group query results by using the GROUP BY clause. \\n'"
      ]
     },
     "execution_count": 3,
     "metadata": {},
     "output_type": "execute_result"
    }
   ],
   "source": [
    "\"\"\"\n",
    "We can use the WHERE clause to refine your query results.\n",
    "We can use the wildcard character (%) as a substitute for unknown characters in a pattern.\n",
    "We can use BETWEEN ... AND ... to specify a range of numbers.\n",
    "We can sort query results into ascending or descending order, using the ORDER BY clause to specify the column to sort on.\n",
    "We can group query results by using the GROUP BY clause. \n",
    "\"\"\""
   ]
  },
  {
   "cell_type": "markdown",
   "metadata": {},
   "source": [
    "<h2>About the Author:</h2> \n",
    "\n",
    "<a href=\"https://www.linkedin.com/in/wanderson-torres-31049522/\">Wanderson Torres</a>\n"
   ]
  }
 ],
 "metadata": {
  "hide_input": false,
  "kernelspec": {
   "display_name": "Python 3",
   "language": "python",
   "name": "python3"
  },
  "language_info": {
   "codemirror_mode": {
    "name": "ipython",
    "version": 3
   },
   "file_extension": ".py",
   "mimetype": "text/x-python",
   "name": "python",
   "nbconvert_exporter": "python",
   "pygments_lexer": "ipython3",
   "version": "3.8.3"
  },
  "toc": {
   "base_numbering": 1,
   "nav_menu": {},
   "number_sections": true,
   "sideBar": true,
   "skip_h1_title": false,
   "title_cell": "Table of Contents",
   "title_sidebar": "Contents",
   "toc_cell": true,
   "toc_position": {},
   "toc_section_display": true,
   "toc_window_display": false
  },
  "varInspector": {
   "cols": {
    "lenName": 16,
    "lenType": 16,
    "lenVar": 40
   },
   "kernels_config": {
    "python": {
     "delete_cmd_postfix": "",
     "delete_cmd_prefix": "del ",
     "library": "var_list.py",
     "varRefreshCmd": "print(var_dic_list())"
    },
    "r": {
     "delete_cmd_postfix": ") ",
     "delete_cmd_prefix": "rm(",
     "library": "var_list.r",
     "varRefreshCmd": "cat(var_dic_list()) "
    }
   },
   "types_to_exclude": [
    "module",
    "function",
    "builtin_function_or_method",
    "instance",
    "_Feature"
   ],
   "window_display": false
  }
 },
 "nbformat": 4,
 "nbformat_minor": 4
}
