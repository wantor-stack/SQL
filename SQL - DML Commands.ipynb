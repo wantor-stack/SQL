{
 "cells": [
  {
   "cell_type": "markdown",
   "metadata": {
    "toc": true
   },
   "source": [
    "<h1>Table of Contents<span class=\"tocSkip\"></span></h1>\n",
    "<div class=\"toc\"><ul class=\"toc-item\"><li><span><a href=\"#Summary\" data-toc-modified-id=\"Summary-1\"><span class=\"toc-item-num\">1&nbsp;&nbsp;</span>Summary</a></span></li><li><span><a href=\"#SQL---Main-Commands\" data-toc-modified-id=\"SQL---Main-Commands-2\"><span class=\"toc-item-num\">2&nbsp;&nbsp;</span>SQL - Main Commands</a></span><ul class=\"toc-item\"><li><span><a href=\"#SELECT\" data-toc-modified-id=\"SELECT-2.1\"><span class=\"toc-item-num\">2.1&nbsp;&nbsp;</span>SELECT</a></span><ul class=\"toc-item\"><li><span><a href=\"#Datset\" data-toc-modified-id=\"Datset-2.1.1\"><span class=\"toc-item-num\">2.1.1&nbsp;&nbsp;</span>Datset</a></span></li><li><span><a href=\"#Problem-1-:\" data-toc-modified-id=\"Problem-1-:-2.1.2\"><span class=\"toc-item-num\">2.1.2&nbsp;&nbsp;</span>Problem 1 :</a></span></li><li><span><a href=\"#Problem-2:\" data-toc-modified-id=\"Problem-2:-2.1.3\"><span class=\"toc-item-num\">2.1.3&nbsp;&nbsp;</span>Problem 2:</a></span></li><li><span><a href=\"#Problem-3:\" data-toc-modified-id=\"Problem-3:-2.1.4\"><span class=\"toc-item-num\">2.1.4&nbsp;&nbsp;</span>Problem 3:</a></span></li><li><span><a href=\"#Problem-4:\" data-toc-modified-id=\"Problem-4:-2.1.5\"><span class=\"toc-item-num\">2.1.5&nbsp;&nbsp;</span>Problem 4:</a></span></li><li><span><a href=\"#Problem-5:\" data-toc-modified-id=\"Problem-5:-2.1.6\"><span class=\"toc-item-num\">2.1.6&nbsp;&nbsp;</span>Problem 5:</a></span></li><li><span><a href=\"#Problem-6:\" data-toc-modified-id=\"Problem-6:-2.1.7\"><span class=\"toc-item-num\">2.1.7&nbsp;&nbsp;</span>Problem 6:</a></span></li></ul></li><li><span><a href=\"#COUNT\" data-toc-modified-id=\"COUNT-2.2\"><span class=\"toc-item-num\">2.2&nbsp;&nbsp;</span>COUNT</a></span><ul class=\"toc-item\"><li><span><a href=\"#Problem-1:\" data-toc-modified-id=\"Problem-1:-2.2.1\"><span class=\"toc-item-num\">2.2.1&nbsp;&nbsp;</span>Problem 1:</a></span></li><li><span><a href=\"#Problem-2:\" data-toc-modified-id=\"Problem-2:-2.2.2\"><span class=\"toc-item-num\">2.2.2&nbsp;&nbsp;</span>Problem 2:</a></span></li><li><span><a href=\"#Problem-3:\" data-toc-modified-id=\"Problem-3:-2.2.3\"><span class=\"toc-item-num\">2.2.3&nbsp;&nbsp;</span>Problem 3:</a></span></li><li><span><a href=\"#Problem-4:\" data-toc-modified-id=\"Problem-4:-2.2.4\"><span class=\"toc-item-num\">2.2.4&nbsp;&nbsp;</span>Problem 4:</a></span></li><li><span><a href=\"#Problem-5:\" data-toc-modified-id=\"Problem-5:-2.2.5\"><span class=\"toc-item-num\">2.2.5&nbsp;&nbsp;</span>Problem 5:</a></span></li></ul></li><li><span><a href=\"#DISTINCT\" data-toc-modified-id=\"DISTINCT-2.3\"><span class=\"toc-item-num\">2.3&nbsp;&nbsp;</span>DISTINCT</a></span><ul class=\"toc-item\"><li><span><a href=\"#Problem-1:\" data-toc-modified-id=\"Problem-1:-2.3.1\"><span class=\"toc-item-num\">2.3.1&nbsp;&nbsp;</span>Problem 1:</a></span></li><li><span><a href=\"#Problem-2:\" data-toc-modified-id=\"Problem-2:-2.3.2\"><span class=\"toc-item-num\">2.3.2&nbsp;&nbsp;</span>Problem 2:</a></span></li><li><span><a href=\"#Problem-3:\" data-toc-modified-id=\"Problem-3:-2.3.3\"><span class=\"toc-item-num\">2.3.3&nbsp;&nbsp;</span>Problem 3:</a></span></li><li><span><a href=\"#Problem-4:\" data-toc-modified-id=\"Problem-4:-2.3.4\"><span class=\"toc-item-num\">2.3.4&nbsp;&nbsp;</span>Problem 4:</a></span></li><li><span><a href=\"#Problem-5:\" data-toc-modified-id=\"Problem-5:-2.3.5\"><span class=\"toc-item-num\">2.3.5&nbsp;&nbsp;</span>Problem 5:</a></span></li></ul></li><li><span><a href=\"#LIMIT\" data-toc-modified-id=\"LIMIT-2.4\"><span class=\"toc-item-num\">2.4&nbsp;&nbsp;</span>LIMIT</a></span><ul class=\"toc-item\"><li><span><a href=\"#Problem-1:\" data-toc-modified-id=\"Problem-1:-2.4.1\"><span class=\"toc-item-num\">2.4.1&nbsp;&nbsp;</span>Problem 1:</a></span></li><li><span><a href=\"#Problem-2:\" data-toc-modified-id=\"Problem-2:-2.4.2\"><span class=\"toc-item-num\">2.4.2&nbsp;&nbsp;</span>Problem 2:</a></span></li><li><span><a href=\"#Problem-3:\" data-toc-modified-id=\"Problem-3:-2.4.3\"><span class=\"toc-item-num\">2.4.3&nbsp;&nbsp;</span>Problem 3:</a></span></li><li><span><a href=\"#Problem-4:\" data-toc-modified-id=\"Problem-4:-2.4.4\"><span class=\"toc-item-num\">2.4.4&nbsp;&nbsp;</span>Problem 4:</a></span></li><li><span><a href=\"#Problem-5:\" data-toc-modified-id=\"Problem-5:-2.4.5\"><span class=\"toc-item-num\">2.4.5&nbsp;&nbsp;</span>Problem 5:</a></span></li></ul></li><li><span><a href=\"#INSERT\" data-toc-modified-id=\"INSERT-2.5\"><span class=\"toc-item-num\">2.5&nbsp;&nbsp;</span>INSERT</a></span><ul class=\"toc-item\"><li><span><a href=\"#Dataset\" data-toc-modified-id=\"Dataset-2.5.1\"><span class=\"toc-item-num\">2.5.1&nbsp;&nbsp;</span>Dataset</a></span></li><li><span><a href=\"#Problem-1:\" data-toc-modified-id=\"Problem-1:-2.5.2\"><span class=\"toc-item-num\">2.5.2&nbsp;&nbsp;</span>Problem 1:</a></span></li><li><span><a href=\"#Problem-2:\" data-toc-modified-id=\"Problem-2:-2.5.3\"><span class=\"toc-item-num\">2.5.3&nbsp;&nbsp;</span>Problem 2:</a></span></li><li><span><a href=\"#Problem-3:\" data-toc-modified-id=\"Problem-3:-2.5.4\"><span class=\"toc-item-num\">2.5.4&nbsp;&nbsp;</span>Problem 3:</a></span></li><li><span><a href=\"#Problem-4:\" data-toc-modified-id=\"Problem-4:-2.5.5\"><span class=\"toc-item-num\">2.5.5&nbsp;&nbsp;</span>Problem 4:</a></span></li></ul></li><li><span><a href=\"#UPDATE\" data-toc-modified-id=\"UPDATE-2.6\"><span class=\"toc-item-num\">2.6&nbsp;&nbsp;</span>UPDATE</a></span><ul class=\"toc-item\"><li><span><a href=\"#Problem-1:\" data-toc-modified-id=\"Problem-1:-2.6.1\"><span class=\"toc-item-num\">2.6.1&nbsp;&nbsp;</span>Problem 1:</a></span></li><li><span><a href=\"#Problem-2:\" data-toc-modified-id=\"Problem-2:-2.6.2\"><span class=\"toc-item-num\">2.6.2&nbsp;&nbsp;</span>Problem 2:</a></span></li><li><span><a href=\"#Problem-3:\" data-toc-modified-id=\"Problem-3:-2.6.3\"><span class=\"toc-item-num\">2.6.3&nbsp;&nbsp;</span>Problem 3:</a></span></li><li><span><a href=\"#Problem-4:\" data-toc-modified-id=\"Problem-4:-2.6.4\"><span class=\"toc-item-num\">2.6.4&nbsp;&nbsp;</span>Problem 4:</a></span></li></ul></li><li><span><a href=\"#DELETE\" data-toc-modified-id=\"DELETE-2.7\"><span class=\"toc-item-num\">2.7&nbsp;&nbsp;</span>DELETE</a></span><ul class=\"toc-item\"><li><span><a href=\"#Problem-1:\" data-toc-modified-id=\"Problem-1:-2.7.1\"><span class=\"toc-item-num\">2.7.1&nbsp;&nbsp;</span>Problem 1:</a></span></li><li><span><a href=\"#Problem-2:\" data-toc-modified-id=\"Problem-2:-2.7.2\"><span class=\"toc-item-num\">2.7.2&nbsp;&nbsp;</span>Problem 2:</a></span></li><li><span><a href=\"#Problem3:\" data-toc-modified-id=\"Problem3:-2.7.3\"><span class=\"toc-item-num\">2.7.3&nbsp;&nbsp;</span>Problem3:</a></span></li></ul></li></ul></li></ul></div>"
   ]
  },
  {
   "cell_type": "markdown",
   "metadata": {},
   "source": [
    "# Summary\n",
    "\n",
    "\n",
    "* **What I learned:**\n",
    "\n",
    "\n",
    "    - Use Data Manipulation Language (DML) statements to read and modify data. \n",
    "    - The search condition of the WHERE clause uses a predicate to refine the search.​ \n",
    "    - COUNT, DISTINCT, and LIMIT​ are expressions that are used with SELECT statements​. \n",
    "    - INSERT, UPDATE, and DELETE are DML statements for populating and changing tables. "
   ]
  },
  {
   "cell_type": "markdown",
   "metadata": {},
   "source": [
    "# SQL - Main Commands"
   ]
  },
  {
   "cell_type": "markdown",
   "metadata": {
    "heading_collapsed": true
   },
   "source": [
    "## SELECT"
   ]
  },
  {
   "cell_type": "code",
   "execution_count": 2,
   "metadata": {
    "ExecuteTime": {
     "end_time": "2021-02-23T23:02:06.039259Z",
     "start_time": "2021-02-23T23:02:05.987274Z"
    },
    "hidden": true
   },
   "outputs": [
    {
     "data": {
      "text/plain": [
       "'SELECT column1, column2, ...\\nFROM table_name\\nWHERE condition\\n;\\n'"
      ]
     },
     "execution_count": 2,
     "metadata": {},
     "output_type": "execute_result"
    }
   ],
   "source": [
    "# Sintax\n",
    "'''\n",
    "SELECT column1, column2, ...\n",
    "FROM table_name\n",
    "WHERE condition\n",
    ";\n",
    "'''"
   ]
  },
  {
   "cell_type": "markdown",
   "metadata": {
    "hidden": true
   },
   "source": [
    "**FROM**: Specifies from which table to get the data. \n",
    "    The clause can include optional JOIN subclauses to specify the rules for joining tables.\n",
    "    \n",
    " **WHERE** : Specifies which rows to retrieve.\n"
   ]
  },
  {
   "cell_type": "markdown",
   "metadata": {
    "ExecuteTime": {
     "end_time": "2021-02-23T23:05:01.393242Z",
     "start_time": "2021-02-23T23:05:01.378280Z"
    },
    "hidden": true
   },
   "source": [
    "### Datset\n",
    "Database Used in this Lab\n",
    "The database used in this lab comes from the following dataset source: \n",
    "Film Locations in San Francisco under a PDDL: Public Domain Dedication and License."
   ]
  },
  {
   "cell_type": "code",
   "execution_count": 7,
   "metadata": {
    "ExecuteTime": {
     "end_time": "2021-02-24T00:21:21.502003Z",
     "start_time": "2021-02-24T00:21:21.469456Z"
    },
    "hidden": true
   },
   "outputs": [
    {
     "data": {
      "text/plain": [
       "'\\ndataset\\nFilmLocations(\\n    Title:              titles of the films, \\n    ReleaseYear:        time of public release of the films, \\n    Locations:          locations of San Francisco where the films were shot, \\n    FunFacts:           funny facts about the filming locations, \\n    ProductionCompany:  companies who produced the films, \\n    Distributor:        companies who distributed the films, \\n    Director:           people who directed the films, \\n    Writer:             people who wrote the films, \\n    Actor1:             person 1 who acted in the films, \\n    Actor2:             person 2 who acted in the films, \\n    Actor3:             person 3 who acted in the films\\n)\\n'"
      ]
     },
     "execution_count": 7,
     "metadata": {},
     "output_type": "execute_result"
    }
   ],
   "source": [
    "'''\n",
    "dataset\n",
    "FilmLocations(\n",
    "    Title:              titles of the films, \n",
    "    ReleaseYear:        time of public release of the films, \n",
    "    Locations:          locations of San Francisco where the films were shot, \n",
    "    FunFacts:           funny facts about the filming locations, \n",
    "    ProductionCompany:  companies who produced the films, \n",
    "    Distributor:        companies who distributed the films, \n",
    "    Director:           people who directed the films, \n",
    "    Writer:             people who wrote the films, \n",
    "    Actor1:             person 1 who acted in the films, \n",
    "    Actor2:             person 2 who acted in the films, \n",
    "    Actor3:             person 3 who acted in the films\n",
    ")\n",
    "'''"
   ]
  },
  {
   "cell_type": "markdown",
   "metadata": {
    "ExecuteTime": {
     "end_time": "2021-02-23T23:06:42.967903Z",
     "start_time": "2021-02-23T23:06:42.958928Z"
    },
    "hidden": true
   },
   "source": [
    "### Problem 1 :\n",
    "    Retrieve all records with all columns from the \"FilmLocations\" table.\n",
    "\n",
    "Solution:\n",
    "\n",
    "   SELECT * FROM FilmLocations;"
   ]
  },
  {
   "cell_type": "markdown",
   "metadata": {
    "hidden": true
   },
   "source": [
    "### Problem 2:\n",
    "    Retrieve the names of all films with director names and writer names.\n",
    "\n",
    "Solution:\n",
    "\n",
    "   SELECT Title, Director, Writer FROM FilmLocations;"
   ]
  },
  {
   "cell_type": "markdown",
   "metadata": {
    "hidden": true
   },
   "source": [
    "### Problem 3:\n",
    "     Retrieve the names of all films released in the 21st century and onwards (release years after 2001      including 2001), along with filming locations and release years.\n",
    "\n",
    "Solution:\n",
    "\n",
    "   SELECT Title, ReleaseYear, Locations FROM FilmLocations WHERE ReleaseYear>=2001;"
   ]
  },
  {
   "cell_type": "markdown",
   "metadata": {
    "hidden": true
   },
   "source": [
    "### Problem 4:\n",
    "    Retrieve the fun facts and filming locations of all films.\n",
    "\n",
    "Solution:\n",
    "\n",
    "   SELECT Locations, FunFacts FROM FilmLocations;"
   ]
  },
  {
   "cell_type": "markdown",
   "metadata": {
    "hidden": true
   },
   "source": [
    "### Problem 5:\n",
    "    Retrieve the names of all films released in the 20th century and before \n",
    "    (release years before 2000 including 2000) that, along with filming locations and release years.\n",
    "\n",
    "Solution:\n",
    "\n",
    "   SELECT Title, ReleaseYear, Locations FROM FilmLocations WHERE ReleaseYear<=2000;"
   ]
  },
  {
   "cell_type": "markdown",
   "metadata": {
    "hidden": true
   },
   "source": [
    "### Problem 6:\n",
    "    Retrieve the names, production company names, filming locations, \n",
    "    and release years of the films which are not written by James Cameron.\n",
    "\n",
    "Solution:\n",
    "\n",
    "   SELECT Title, ProductionCompany, Locations, ReleaseYear FROM FilmLocations WHERE Writer<>\"James Cameron\";"
   ]
  },
  {
   "cell_type": "markdown",
   "metadata": {
    "heading_collapsed": true
   },
   "source": [
    "## COUNT"
   ]
  },
  {
   "cell_type": "code",
   "execution_count": null,
   "metadata": {
    "hidden": true
   },
   "outputs": [],
   "source": [
    "# We will first go through some examples of using COUNT in queries \n",
    "# and then solve some exercise problems by using it."
   ]
  },
  {
   "cell_type": "markdown",
   "metadata": {
    "hidden": true
   },
   "source": [
    "### Problem 1:\n",
    "    Retrieve the number of rows from the \"FilmLocations\" table.\n",
    "\n",
    "Solution:\n",
    "\n",
    "SELECT COUNT(*) FROM FilmLocations;"
   ]
  },
  {
   "cell_type": "markdown",
   "metadata": {
    "hidden": true
   },
   "source": [
    "### Problem 2:\n",
    "    In this example, now we want to count the number of locations of the films. \n",
    "        But we also want to restrict the output resultset in such a way that we only retrieve the number of locations of the films written by a certain writer.\n",
    "\n",
    "    --> Retrieve the number of locations of the films which are written by James Cameron.\n",
    "\n",
    "Solution:\n",
    "\n",
    "SELECT COUNT(Locations) FROM FilmLocations WHERE Writer=\"James Cameron\";"
   ]
  },
  {
   "cell_type": "markdown",
   "metadata": {
    "hidden": true
   },
   "source": [
    "### Problem 3:\n",
    "\n",
    "    Retrieve the number of locations of the films which are directed by Woody Allen.\n",
    "\n",
    "Solution\n",
    "\n",
    "SELECT COUNT(Locations) FROM FilmLocations WHERE Director=\"Woody Allen\";\n"
   ]
  },
  {
   "cell_type": "markdown",
   "metadata": {
    "hidden": true
   },
   "source": [
    "### Problem 4:\n",
    "\n",
    "    Retrieve the number of films shot at Russian Hill.\n",
    "\n",
    "Solution:\n",
    "\n",
    "   SELECT Count(Title) FROM FilmLocations WHERE Locations=\"Russian Hill\";"
   ]
  },
  {
   "cell_type": "markdown",
   "metadata": {
    "hidden": true
   },
   "source": [
    "### Problem 5:\n",
    "\n",
    "    Retrieve the number of rows having a release year older than 1950 from the \"FilmLocations\" table.\n",
    "\n",
    "Solution:\n",
    "\n",
    "   SELECT Count(*) FROM FilmLocations WHERE ReleaseYear<1950;"
   ]
  },
  {
   "cell_type": "markdown",
   "metadata": {
    "heading_collapsed": true
   },
   "source": [
    "## DISTINCT"
   ]
  },
  {
   "cell_type": "code",
   "execution_count": null,
   "metadata": {
    "hidden": true
   },
   "outputs": [],
   "source": [
    "# In this exercise, you will first go through some examples of using DISTINCT in queries, \n",
    "# and then solve some exercise problems by using it."
   ]
  },
  {
   "cell_type": "markdown",
   "metadata": {
    "hidden": true
   },
   "source": [
    "### Problem 1:\n",
    "\n",
    "    In this example, we want to retrieve the title of all films in the table in such a way that duplicates will be discarded in the output resultset.\n",
    "\n",
    "    --> Retrieve the name of all films without any repeated titles.\n",
    "\n",
    "Solution:\n",
    "\n",
    "SELECT DISTINCT Title FROM FilmLocations;"
   ]
  },
  {
   "cell_type": "markdown",
   "metadata": {
    "ExecuteTime": {
     "end_time": "2021-02-24T00:07:11.964721Z",
     "start_time": "2021-02-24T00:07:11.949614Z"
    },
    "hidden": true
   },
   "source": [
    "### Problem 2:\n",
    "    In this example, we want to retrieve the count of release years of the films produced by \n",
    "    a specific company in such a way that duplicate release years of those films will be discarded \n",
    "    in the count.\n",
    "\n",
    "    --> Retrieve the number of release years of the films distinctly, produced by Warner Bros. Pictures.\n",
    "\n",
    "Solution:\n",
    "\n",
    "SELECT COUNT(DISTINCT ReleaseYear) FROM FilmLocations WHERE ProductionCompany=\"Warner Bros. Pictures\";"
   ]
  },
  {
   "cell_type": "markdown",
   "metadata": {
    "hidden": true
   },
   "source": [
    "### Problem 3:\n",
    "\n",
    "    Retrieve the name of all unique films released in the 21st century and onwards, along with their release years.\n",
    "\n",
    "Solution:\n",
    "    \n",
    "SELECT DISTINCT Title, ReleaseYear FROM FilmLocations WHERE ReleaseYear>=2001;"
   ]
  },
  {
   "cell_type": "markdown",
   "metadata": {
    "hidden": true
   },
   "source": [
    "### Problem 4:\n",
    "\n",
    "    Retrieve the names of all the directors and their distinct films shot at City Hall.\n",
    "\n",
    "Solution:\n",
    "\n",
    "   SELECT DISTINCT Title, Director FROM FilmLocations WHERE Locations=\"City Hall\";"
   ]
  },
  {
   "cell_type": "markdown",
   "metadata": {
    "hidden": true
   },
   "source": [
    "### Problem 5:\n",
    "\n",
    "    Retrieve the number of distributors distinctly who distributed films acted by Clint Eastwood as 1st actor.\n",
    "\n",
    "Solution:\n",
    "    \n",
    "   SELECT COUNT(DISTINCT Distributor) FROM FilmLocations WHERE Actor1=\"Clint Eastwood\";"
   ]
  },
  {
   "cell_type": "markdown",
   "metadata": {
    "heading_collapsed": true
   },
   "source": [
    "## LIMIT"
   ]
  },
  {
   "cell_type": "code",
   "execution_count": 6,
   "metadata": {
    "ExecuteTime": {
     "end_time": "2021-02-24T00:11:40.314495Z",
     "start_time": "2021-02-24T00:11:40.304524Z"
    },
    "hidden": true
   },
   "outputs": [],
   "source": [
    "# In this exercise, you will first go through some examples of using LIMIT in queries and \n",
    "# then solve some exercise by using it."
   ]
  },
  {
   "cell_type": "markdown",
   "metadata": {
    "hidden": true
   },
   "source": [
    "### Problem 1:\n",
    "\n",
    "    In this example, let us retrieve a specific number of rows from the top of the table in such a way that rows other than those are not in the output resultset.\n",
    "\n",
    "    --> Retrieve the first 25 rows from the \"FilmLocations\" table.\n",
    "\n",
    "Solution:\n",
    "\n",
    "SELECT * FROM FilmLocations LIMIT 25;"
   ]
  },
  {
   "cell_type": "markdown",
   "metadata": {
    "hidden": true
   },
   "source": [
    "### Problem 2:\n",
    "\n",
    "    In this example, let us take the first example to a more advanced level. Now we want to retrieve a specific number of rows from the table, but thid time, not from the top of the table. This time we want to retrieve a specific number of rows starting from a specific row in the table.\n",
    "\n",
    "    --> Retrieve the first 15 rows from the \"FilmLocations\" table starting from row 11.\n",
    "\n",
    "Solution:\n",
    "\n",
    "SELECT * FROM FilmLocations LIMIT 15 OFFSET 10;"
   ]
  },
  {
   "cell_type": "markdown",
   "metadata": {
    "hidden": true
   },
   "source": [
    "### Problem 3:\n",
    "\n",
    "    --> Retrieve the name of first 50 films distinctly.\n",
    "\n",
    "Solution:\n",
    "    \n",
    "   SELECT DISTINCT Title FROM FilmLocations LIMIT 50;"
   ]
  },
  {
   "cell_type": "markdown",
   "metadata": {
    "hidden": true
   },
   "source": [
    "### Problem 4:\n",
    "\n",
    "    --> Retrieve first 10 film names distinctly released in 2015.\n",
    "\n",
    "Solution:\n",
    "\n",
    "   SELECT DISTINCT Title FROM FilmLocations WHERE ReleaseYear=2015 LIMIT 10;"
   ]
  },
  {
   "cell_type": "markdown",
   "metadata": {
    "hidden": true
   },
   "source": [
    "### Problem 5:\n",
    "\n",
    "    --> Retrieve the next 3 film names distinctly after first 5 films released in 2015.\n",
    "\n",
    "Solution:\n",
    "\n",
    "SELECT DISTINCT Title FROM FilmLocations WHERE ReleaseYear=2015 LIMIT 3 OFFSET 5;"
   ]
  },
  {
   "cell_type": "markdown",
   "metadata": {},
   "source": [
    "## INSERT"
   ]
  },
  {
   "cell_type": "code",
   "execution_count": null,
   "metadata": {},
   "outputs": [],
   "source": [
    "'''\n",
    "How does the syntax of an INSERT statement look?\n",
    "\n",
    "INSERT INTO table_name (column1, column2, ... )\n",
    "VALUES (value1, value2, ... )\n",
    ";\n",
    "'''"
   ]
  },
  {
   "cell_type": "markdown",
   "metadata": {},
   "source": [
    "### Dataset"
   ]
  },
  {
   "cell_type": "markdown",
   "metadata": {},
   "source": [
    "In this part, you will use Datasette , an open source multi-tool for exploring and publishing data.\n",
    "\n",
    "Database Used in this Lab\n",
    "The dataset used in this lab is an internal database."
   ]
  },
  {
   "cell_type": "code",
   "execution_count": 9,
   "metadata": {
    "ExecuteTime": {
     "end_time": "2021-02-24T00:28:10.780966Z",
     "start_time": "2021-02-24T00:28:10.758028Z"
    }
   },
   "outputs": [
    {
     "ename": "SyntaxError",
     "evalue": "invalid syntax (<ipython-input-9-7efeb42efe1d>, line 1)",
     "output_type": "error",
     "traceback": [
      "\u001b[1;36m  File \u001b[1;32m\"<ipython-input-9-7efeb42efe1d>\"\u001b[1;36m, line \u001b[1;32m1\u001b[0m\n\u001b[1;33m    Let us first explore the Instructors database using the Datasette tool:\u001b[0m\n\u001b[1;37m        ^\u001b[0m\n\u001b[1;31mSyntaxError\u001b[0m\u001b[1;31m:\u001b[0m invalid syntax\n"
     ]
    }
   ],
   "source": [
    "#Exploring the Database\n",
    "'''\n",
    "SELECT * FROM Instructor;\n",
    "'''"
   ]
  },
  {
   "cell_type": "code",
   "execution_count": null,
   "metadata": {},
   "outputs": [],
   "source": [
    "'''\n",
    "Instructor (\n",
    "    ins_id:     unique identification number of the instructors,    \n",
    "    lastname:   last name of the instructors,\n",
    "    firstname:  first name of the instructors,\n",
    "    city:       name of the cities where instructors are located,\n",
    "    country:    two-letter country code of the countries where instructors are located\n",
    ")'''"
   ]
  },
  {
   "cell_type": "markdown",
   "metadata": {},
   "source": [
    "### Problem 1:\n",
    "\n",
    "    In this example, suppose we want to insert a new single row into the Instructor table.\n",
    "    \n",
    "    --> Insert a new instructor record with id 4 for Sandip Saha who lives in Edmonton, CA into the \"Instructor\" table.\n",
    "\n",
    "Solution:\n",
    "\n",
    "INSERT INTO Instructor(ins_id, lastname, firstname, city, country)\n",
    "VALUES(4, 'Saha', 'Sandip', 'Edmonton', 'CA');"
   ]
  },
  {
   "cell_type": "markdown",
   "metadata": {},
   "source": [
    "### Problem 2:\n",
    "\n",
    "    In this example, suppose we want to insert some new multiple rows into the Instructor table.\n",
    "\n",
    "    --> Insert two new instructor records into the \"Instructor\" table. First record with id 5 for John Doe who lives in Sydney, AU. Second record with id 6 for Jane Doe who lives in Dhaka, BD.\n",
    "\n",
    "Solution:\n",
    "\n",
    "INSERT INTO Instructor(ins_id, lastname, firstname, city, country)\n",
    "VALUES(5, 'Doe', 'John', 'Sydney', 'AU'), (6, 'Doe', 'Jane', 'Dhaka', 'BD');"
   ]
  },
  {
   "cell_type": "markdown",
   "metadata": {},
   "source": [
    "### Problem 3:\n",
    "\n",
    "    --> Insert a new instructor record with id 7 for Antonio Cangiano who lives in Vancouver, CA into the \"Instructor\" table.\n",
    "\n",
    "Solution:\n",
    "    \n",
    "INSERT INTO Instructor(ins_id, lastname, firstname, city, country)\n",
    "VALUES(7, 'Cangiano', 'Antonio', 'Vancouver', 'CA');\n",
    "\n",
    "SELECT * FROM Instructor;"
   ]
  },
  {
   "cell_type": "markdown",
   "metadata": {},
   "source": [
    "### Problem 4:\n",
    "\n",
    "    Insert two new instructor records into the \"Instructor\" table. First record with id 8 for Steve Ryan who lives in Barlby, GB. Second record with id 9 for Ramesh Sannareddy who lives in Hyderabad, IN.\n",
    "\n",
    "Solution:\n",
    "\n",
    "   INSERT INTO Instructor(ins_id, lastname, firstname, city, country)\n",
    "    \n",
    "VALUES(8, 'Ryan', 'Steve', 'Barlby', 'GB'), (9, 'Sannareddy', 'Ramesh', 'Hyderabad', 'IN');\n",
    "\n",
    "SELECT * FROM Instructor;"
   ]
  },
  {
   "cell_type": "markdown",
   "metadata": {
    "heading_collapsed": true
   },
   "source": [
    "## UPDATE"
   ]
  },
  {
   "cell_type": "code",
   "execution_count": 8,
   "metadata": {
    "ExecuteTime": {
     "end_time": "2021-02-24T00:24:43.203082Z",
     "start_time": "2021-02-24T00:24:43.193109Z"
    },
    "hidden": true
   },
   "outputs": [
    {
     "data": {
      "text/plain": [
       "'\\nHow does the syntax of an UPDATE statement look?\\n\\nUPDATE table_name\\nSET column1 = value1, column2 = value2, ...\\nWHERE condition\\n;\\n'"
      ]
     },
     "execution_count": 8,
     "metadata": {},
     "output_type": "execute_result"
    }
   ],
   "source": [
    "'''\n",
    "How does the syntax of an UPDATE statement look?\n",
    "\n",
    "UPDATE table_name\n",
    "SET column1 = value1, column2 = value2, ...\n",
    "WHERE condition\n",
    ";\n",
    "'''"
   ]
  },
  {
   "cell_type": "markdown",
   "metadata": {
    "hidden": true
   },
   "source": [
    "### Problem 1:\n",
    "\n",
    "    In this example, we want to update one column of an existing row of the table.\n",
    "\n",
    "    --> Update the city for Sandip to Toronto.\n",
    "\n",
    "Solution:\n",
    "\n",
    "UPDATE Instructor \n",
    "SET city='Toronto' \n",
    "WHERE firstname=\"Sandip\";"
   ]
  },
  {
   "cell_type": "markdown",
   "metadata": {
    "hidden": true
   },
   "source": [
    "### Problem 2:\n",
    "\n",
    "    In this example, we want to update multiple columns of an existing row of the table.\n",
    "\n",
    "    --> Update the city and country for Doe with id 5 to Dubai and AE respectively.\n",
    "\n",
    "Solution:\n",
    "\n",
    "UPDATE Instructor \n",
    "SET city='Dubai', country='AE' \n",
    "WHERE ins_id=5;"
   ]
  },
  {
   "cell_type": "markdown",
   "metadata": {
    "ExecuteTime": {
     "end_time": "2021-02-24T00:44:12.445743Z",
     "start_time": "2021-02-24T00:44:12.434802Z"
    },
    "hidden": true
   },
   "source": [
    "### Problem 3:\n",
    "\n",
    "    --> Update the city of the instructor record to Markham whose id is 1.\n",
    "\n",
    "Solution:\n",
    "    \n",
    "  UPDATE Instructor \n",
    "SET city='Markham' \n",
    "WHERE ins_id=1;\n",
    "\n",
    "SELECT * FROM Instructor;"
   ]
  },
  {
   "cell_type": "markdown",
   "metadata": {
    "ExecuteTime": {
     "end_time": "2021-02-24T00:48:54.716843Z",
     "start_time": "2021-02-24T00:48:54.710824Z"
    },
    "hidden": true
   },
   "source": [
    "### Problem 4:\n",
    "\n",
    "    --> Update the city and country for Sandip with id 4 to Dhaka and BD respectively.\n",
    "\n",
    "Solution:\n",
    "\n",
    "UPDATE Instructor \n",
    "SET city='Dhaka', country='BD' \n",
    "WHERE ins_id=4;\n",
    "\n",
    "SELECT * FROM Instructor;"
   ]
  },
  {
   "cell_type": "markdown",
   "metadata": {},
   "source": [
    "## DELETE"
   ]
  },
  {
   "cell_type": "code",
   "execution_count": null,
   "metadata": {},
   "outputs": [],
   "source": [
    "'''\n",
    "How does the syntax of a DELETE statement look?\n",
    "\n",
    "DELETE FROM table_name\n",
    "WHERE condition\n",
    ";\n",
    "\n",
    "'''"
   ]
  },
  {
   "cell_type": "markdown",
   "metadata": {},
   "source": [
    "### Problem 1:\n",
    "\n",
    "    In this example, we want to remove a row from the table.\n",
    "    \n",
    "    --> Remove the instructor record of Doe whose id is 6.\n",
    "\n",
    "Solution:\n",
    "\n",
    "DELETE FROM instructor\n",
    "WHERE ins_id = 6;"
   ]
  },
  {
   "cell_type": "markdown",
   "metadata": {},
   "source": [
    "### Problem 2:\n",
    "\n",
    "    Remove the instructor record of Hima.\n",
    "\n",
    "Solution:\n",
    "    \n",
    "DELETE FROM instructor\n",
    "\n",
    "WHERE firstname = 'Hima';\n"
   ]
  },
  {
   "cell_type": "markdown",
   "metadata": {},
   "source": [
    "### Problem3:\n",
    "    Which of the following SQL statements will delete the authors with IDs of A10 and A11?\n",
    "    \n",
    "Solution:\n",
    "\n",
    "   DELETE FROM AUTHOR WHERE AUTHOR_ID IN ('A10', 'A11')"
   ]
  },
  {
   "cell_type": "code",
   "execution_count": null,
   "metadata": {},
   "outputs": [],
   "source": []
  }
 ],
 "metadata": {
  "hide_input": false,
  "kernelspec": {
   "display_name": "Python 3",
   "language": "python",
   "name": "python3"
  },
  "language_info": {
   "codemirror_mode": {
    "name": "ipython",
    "version": 3
   },
   "file_extension": ".py",
   "mimetype": "text/x-python",
   "name": "python",
   "nbconvert_exporter": "python",
   "pygments_lexer": "ipython3",
   "version": "3.8.3"
  },
  "toc": {
   "base_numbering": 1,
   "nav_menu": {},
   "number_sections": true,
   "sideBar": true,
   "skip_h1_title": false,
   "title_cell": "Table of Contents",
   "title_sidebar": "Contents",
   "toc_cell": true,
   "toc_position": {},
   "toc_section_display": true,
   "toc_window_display": false
  },
  "varInspector": {
   "cols": {
    "lenName": 16,
    "lenType": 16,
    "lenVar": 40
   },
   "kernels_config": {
    "python": {
     "delete_cmd_postfix": "",
     "delete_cmd_prefix": "del ",
     "library": "var_list.py",
     "varRefreshCmd": "print(var_dic_list())"
    },
    "r": {
     "delete_cmd_postfix": ") ",
     "delete_cmd_prefix": "rm(",
     "library": "var_list.r",
     "varRefreshCmd": "cat(var_dic_list()) "
    }
   },
   "types_to_exclude": [
    "module",
    "function",
    "builtin_function_or_method",
    "instance",
    "_Feature"
   ],
   "window_display": false
  }
 },
 "nbformat": 4,
 "nbformat_minor": 4
}
