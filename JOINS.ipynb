{
 "cells": [
  {
   "cell_type": "markdown",
   "metadata": {},
   "source": [
    "<center>\n",
    "    <img src=\"https://s3-api.us-geo.objectstorage.softlayer.net/cf-courses-data/CognitiveClass/Logos/organization_logo/organization_logo.png\" width=\"300\" alt=\"cognitiveclass.ai logo\"  />\n",
    "</center>\n",
    "\n",
    "# Joins in SQL\n",
    "\n",
    "### This Notebook is a part of my studies for IBM Certification in Data Science Professional\n",
    "\n",
    "## What I learned:\n",
    "\n",
    "- Inner Join, \n",
    "- Outer join\n",
    "- Left Join\n",
    "- Right Join, \n",
    "- Cross Join\n"
   ]
  },
  {
   "cell_type": "markdown",
   "metadata": {
    "toc": true
   },
   "source": [
    "<h1>Table of Contents<span class=\"tocSkip\"></span></h1>\n",
    "<div class=\"toc\"><ul class=\"toc-item\"><li><span><a href=\"#Joins\" data-toc-modified-id=\"Joins-1\"><span class=\"toc-item-num\">1&nbsp;&nbsp;</span>Joins</a></span><ul class=\"toc-item\"><li><span><a href=\"#Synthax\" data-toc-modified-id=\"Synthax-1.1\"><span class=\"toc-item-num\">1.1&nbsp;&nbsp;</span>Synthax</a></span></li><li><span><a href=\"#Database-Used-in-this-Lab\" data-toc-modified-id=\"Database-Used-in-this-Lab-1.2\"><span class=\"toc-item-num\">1.2&nbsp;&nbsp;</span>Database Used in this Lab</a></span></li><li><span><a href=\"#Objectives\" data-toc-modified-id=\"Objectives-1.3\"><span class=\"toc-item-num\">1.3&nbsp;&nbsp;</span>Objectives</a></span></li><li><span><a href=\"#Problems\" data-toc-modified-id=\"Problems-1.4\"><span class=\"toc-item-num\">1.4&nbsp;&nbsp;</span>Problems</a></span><ul class=\"toc-item\"><li><span><a href=\"#Problem-1\" data-toc-modified-id=\"Problem-1-1.4.1\"><span class=\"toc-item-num\">1.4.1&nbsp;&nbsp;</span>Problem 1</a></span></li><li><span><a href=\"#Problem-2\" data-toc-modified-id=\"Problem-2-1.4.2\"><span class=\"toc-item-num\">1.4.2&nbsp;&nbsp;</span>Problem 2</a></span></li><li><span><a href=\"#Problem-3\" data-toc-modified-id=\"Problem-3-1.4.3\"><span class=\"toc-item-num\">1.4.3&nbsp;&nbsp;</span>Problem 3</a></span></li><li><span><a href=\"#Problem-4\" data-toc-modified-id=\"Problem-4-1.4.4\"><span class=\"toc-item-num\">1.4.4&nbsp;&nbsp;</span>Problem 4</a></span></li><li><span><a href=\"#Problem-5\" data-toc-modified-id=\"Problem-5-1.4.5\"><span class=\"toc-item-num\">1.4.5&nbsp;&nbsp;</span>Problem 5</a></span></li><li><span><a href=\"#Problem-6\" data-toc-modified-id=\"Problem-6-1.4.6\"><span class=\"toc-item-num\">1.4.6&nbsp;&nbsp;</span>Problem 6</a></span></li><li><span><a href=\"#Problem-7\" data-toc-modified-id=\"Problem-7-1.4.7\"><span class=\"toc-item-num\">1.4.7&nbsp;&nbsp;</span>Problem 7</a></span></li></ul></li></ul></li></ul></div>"
   ]
  },
  {
   "cell_type": "markdown",
   "metadata": {},
   "source": [
    "# Joins"
   ]
  },
  {
   "cell_type": "markdown",
   "metadata": {},
   "source": [
    "## Synthax"
   ]
  },
  {
   "cell_type": "code",
   "execution_count": null,
   "metadata": {
    "ExecuteTime": {
     "end_time": "2021-03-02T00:21:21.680536Z",
     "start_time": "2021-03-02T00:21:21.652594Z"
    }
   },
   "outputs": [],
   "source": [
    "# How does a CROSS JOIN (also known as Cartesian Join) statement syntax look?\n",
    "\"\"\"\n",
    "SELECT column_name(s)\n",
    "FROM table1\n",
    "CROSS JOIN table2;\n",
    "\"\"\""
   ]
  },
  {
   "cell_type": "code",
   "execution_count": null,
   "metadata": {
    "ExecuteTime": {
     "end_time": "2021-03-02T00:23:34.525395Z",
     "start_time": "2021-03-02T00:23:34.511432Z"
    }
   },
   "outputs": [],
   "source": [
    "# How does an INNER JOIN statement syntax look?\n",
    "\n",
    "\"\"\"\n",
    "SELECT column_name(s)\n",
    "FROM table1\n",
    "INNER JOIN table2\n",
    "ON table1.column_name = table2.column_name;\n",
    "WHERE condition;\n",
    "\"\"\""
   ]
  },
  {
   "cell_type": "code",
   "execution_count": null,
   "metadata": {},
   "outputs": [],
   "source": [
    "# How does a LEFT OUTER JOIN statement syntax look?\n",
    "\n",
    "\"\"\"\n",
    "SELECT column_name(s)\n",
    "FROM table1\n",
    "LEFT OUTER JOIN table2\n",
    "ON table1.column_name = table2.column_name\n",
    "WHERE condition;\n",
    "\"\"\""
   ]
  },
  {
   "cell_type": "code",
   "execution_count": null,
   "metadata": {},
   "outputs": [],
   "source": [
    "How does a RIGHT OUTER JOIN statement syntax look?\n",
    "\n",
    "SELECT column_name(s)\n",
    "FROM table1\n",
    "RIGHT OUTER JOIN table2\n",
    "ON table1.column_name = table2.column_name\n",
    "WHERE condition;"
   ]
  },
  {
   "cell_type": "code",
   "execution_count": null,
   "metadata": {},
   "outputs": [],
   "source": [
    "How does a FULL OUTER JOIN statement syntax look?\n",
    "\n",
    "SELECT column_name(s)\n",
    "FROM table1\n",
    "FULL OUTER JOIN table2\n",
    "ON table1.column_name = table2.column_name\n",
    "WHERE condition;"
   ]
  },
  {
   "cell_type": "markdown",
   "metadata": {},
   "source": [
    "How does a SELF JOIN statement syntax look?\n",
    "\n",
    "SELECT column_name(s)\n",
    "FROM table1 T1, table1 T2\n",
    "WHERE condition;"
   ]
  },
  {
   "cell_type": "markdown",
   "metadata": {},
   "source": [
    "## Database Used in this Notebook"
   ]
  },
  {
   "cell_type": "markdown",
   "metadata": {
    "ExecuteTime": {
     "end_time": "2021-03-02T00:29:21.664226Z",
     "start_time": "2021-03-02T00:29:21.648270Z"
    }
   },
   "source": [
    "\n",
    "The database used in this notebook is an internal database. \n",
    "You will be working on a sample HR database. \n",
    "This HR database schema consists of 5 tables called \n",
    "EMPLOYEES, JOB_HISTORY, JOBS, DEPARTMENTS and LOCATIONS. \n",
    "Each table has a few rows of sample data. The following diagram shows the tables for the HR database:"
   ]
  },
  {
   "cell_type": "code",
   "execution_count": 6,
   "metadata": {
    "ExecuteTime": {
     "end_time": "2021-03-02T00:43:58.413838Z",
     "start_time": "2021-03-02T00:43:58.395887Z"
    }
   },
   "outputs": [
    {
     "ename": "SyntaxError",
     "evalue": "invalid syntax (<ipython-input-6-58579c33a1dd>, line 1)",
     "output_type": "error",
     "traceback": [
      "\u001b[1;36m  File \u001b[1;32m\"<ipython-input-6-58579c33a1dd>\"\u001b[1;36m, line \u001b[1;32m1\u001b[0m\n\u001b[1;33m    <img src=\"images\\HR_Database.png\" >\u001b[0m\n\u001b[1;37m    ^\u001b[0m\n\u001b[1;31mSyntaxError\u001b[0m\u001b[1;31m:\u001b[0m invalid syntax\n"
     ]
    }
   ],
   "source": [
    "<img src=\"images\\HR_Database.png\" >"
   ]
  },
  {
   "cell_type": "markdown",
   "metadata": {},
   "source": [
    "## Objectives"
   ]
  },
  {
   "cell_type": "markdown",
   "metadata": {},
   "source": [
    "\n",
    "* Perform different kinds of join operations"
   ]
  },
  {
   "cell_type": "markdown",
   "metadata": {},
   "source": [
    "## Problems"
   ]
  },
  {
   "cell_type": "markdown",
   "metadata": {
    "ExecuteTime": {
     "end_time": "2021-03-02T00:32:30.489063Z",
     "start_time": "2021-03-02T00:32:30.483078Z"
    },
    "heading_collapsed": true
   },
   "source": [
    "### Problem 1"
   ]
  },
  {
   "cell_type": "markdown",
   "metadata": {
    "hidden": true
   },
   "source": [
    "    Select the names and job start dates of all employees who work for the department number 5.\n",
    "    \n",
    "Solution:\n",
    "\n",
    "select E.F_NAME,E.L_NAME, JH.START_DATE <br>\n",
    "from EMPLOYEES as E <br>\n",
    "INNER JOIN JOB_HISTORY as JH on E.EMP_ID=JH.EMPL_ID <br>\n",
    "where E.DEP_ID ='5';"
   ]
  },
  {
   "cell_type": "markdown",
   "metadata": {
    "heading_collapsed": true
   },
   "source": [
    "### Problem 2"
   ]
  },
  {
   "cell_type": "markdown",
   "metadata": {
    "hidden": true
   },
   "source": [
    "    Select the names, job start dates, and job titles of all employees who work for the department number 5.\n",
    "    \n",
    "Solution:\n",
    "\n",
    "select E.F_NAME,E.L_NAME, JH.START_DATE, J.JOB_TITLE <br>\n",
    "from EMPLOYEES as E <br>\n",
    "INNER JOIN JOB_HISTORY as JH on E.EMP_ID=JH.EMPL_ID <br>\n",
    "INNER JOIN JOBS as J on E.JOB_ID=J.JOB_IDENT <br>\n",
    "where E.DEP_ID ='5';"
   ]
  },
  {
   "cell_type": "markdown",
   "metadata": {
    "heading_collapsed": true
   },
   "source": [
    "### Problem 3"
   ]
  },
  {
   "cell_type": "markdown",
   "metadata": {
    "hidden": true
   },
   "source": [
    "    Perform a Left Outer Join on the EMPLOYEES and DEPARTMENT tables and select employee id, last name, department id and department name for all employees.\n",
    "    \n",
    "Solution:\n",
    "\n",
    "select E.EMP_ID,E.L_NAME,E.DEP_ID,D.DEP_NAME <br>\n",
    "from EMPLOYEES AS E <br>\n",
    "LEFT OUTER JOIN DEPARTMENTS AS D ON E.DEP_ID=D.DEPT_ID_DEP;"
   ]
  },
  {
   "cell_type": "markdown",
   "metadata": {
    "heading_collapsed": true
   },
   "source": [
    "### Problem 4"
   ]
  },
  {
   "cell_type": "markdown",
   "metadata": {
    "hidden": true
   },
   "source": [
    "    Re-write the previous query but limit the result set to include only the rows for employees born before 1980.\n",
    "    \n",
    "Solution:\n",
    "\n",
    "select E.EMP_ID,E.L_NAME,E.DEP_ID,D.DEP_NAME <br>\n",
    "from EMPLOYEES AS E <br>\n",
    "LEFT OUTER JOIN DEPARTMENTS AS D ON E.DEP_ID=D.DEPT_ID_DEP <br>\n",
    "where YEAR(E.B_DATE) < 1980;"
   ]
  },
  {
   "cell_type": "markdown",
   "metadata": {
    "heading_collapsed": true
   },
   "source": [
    "### Problem 5"
   ]
  },
  {
   "cell_type": "markdown",
   "metadata": {
    "hidden": true
   },
   "source": [
    "    Re-write the previous query but have the result set include all the employees but department names for only the employees who were born before 1980.\n",
    "    \n",
    "Solution:\n",
    "\n",
    "select E.EMP_ID,E.L_NAME,E.DEP_ID,D.DEP_NAME <br>\n",
    "from EMPLOYEES AS E <br>\n",
    "LEFT OUTER JOIN DEPARTMENTS AS D ON E.DEP_ID=D.DEPT_ID_DEP <br>\n",
    "AND YEAR(E.B_DATE) < 1980;"
   ]
  },
  {
   "cell_type": "markdown",
   "metadata": {
    "heading_collapsed": true
   },
   "source": [
    "### Problem 6"
   ]
  },
  {
   "cell_type": "markdown",
   "metadata": {
    "hidden": true
   },
   "source": [
    "    Perform a Full Join on the EMPLOYEES and DEPARTMENT tables and select the First name, Last name and Department name of all employees.\n",
    "    \n",
    "Solution:\n",
    "\n",
    "select E.F_NAME,E.L_NAME,D.DEP_NAME <br>\n",
    "from EMPLOYEES AS E <br>\n",
    "FULL OUTER JOIN DEPARTMENTS AS D ON E.DEP_ID=D.DEPT_ID_DEP;"
   ]
  },
  {
   "cell_type": "markdown",
   "metadata": {
    "heading_collapsed": true
   },
   "source": [
    "### Problem 7"
   ]
  },
  {
   "cell_type": "markdown",
   "metadata": {
    "hidden": true
   },
   "source": [
    "    Re-write the previous query but have the result set include all employee names but department id and department names only for male employees.\n",
    "    \n",
    "Solution:\n",
    "\n",
    "select E.F_NAME,E.L_NAME,D.DEPT_ID_DEP, D.DEP_NAME <br>\n",
    "from EMPLOYEES AS E <br>\n",
    "FULL OUTER JOIN DEPARTMENTS AS D ON E.DEP_ID=D.DEPT_ID_DEP AND E.SEX = 'M';"
   ]
  },
  {
   "cell_type": "markdown",
   "metadata": {},
   "source": [
    "<h2>About the Author:</h2> \n",
    "\n",
    "<a href=\"https://www.linkedin.com/in/wanderson-torres-31049522/\">Wanderson Torres</a>\n"
   ]
  }
 ],
 "metadata": {
  "hide_input": false,
  "kernelspec": {
   "display_name": "Python 3",
   "language": "python",
   "name": "python3"
  },
  "language_info": {
   "codemirror_mode": {
    "name": "ipython",
    "version": 3
   },
   "file_extension": ".py",
   "mimetype": "text/x-python",
   "name": "python",
   "nbconvert_exporter": "python",
   "pygments_lexer": "ipython3",
   "version": "3.8.3"
  },
  "toc": {
   "base_numbering": 1,
   "nav_menu": {},
   "number_sections": true,
   "sideBar": true,
   "skip_h1_title": false,
   "title_cell": "Table of Contents",
   "title_sidebar": "Contents",
   "toc_cell": true,
   "toc_position": {},
   "toc_section_display": true,
   "toc_window_display": false
  },
  "varInspector": {
   "cols": {
    "lenName": 16,
    "lenType": 16,
    "lenVar": 40
   },
   "kernels_config": {
    "python": {
     "delete_cmd_postfix": "",
     "delete_cmd_prefix": "del ",
     "library": "var_list.py",
     "varRefreshCmd": "print(var_dic_list())"
    },
    "r": {
     "delete_cmd_postfix": ") ",
     "delete_cmd_prefix": "rm(",
     "library": "var_list.r",
     "varRefreshCmd": "cat(var_dic_list()) "
    }
   },
   "types_to_exclude": [
    "module",
    "function",
    "builtin_function_or_method",
    "instance",
    "_Feature"
   ],
   "window_display": false
  }
 },
 "nbformat": 4,
 "nbformat_minor": 4
}
