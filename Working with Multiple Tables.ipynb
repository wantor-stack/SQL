{
 "cells": [
  {
   "cell_type": "markdown",
   "metadata": {},
   "source": [
    "<center>\n",
    "    <img src=\"https://s3-api.us-geo.objectstorage.softlayer.net/cf-courses-data/CognitiveClass/Logos/organization_logo/organization_logo.png\" width=\"300\" alt=\"cognitiveclass.ai logo\"  />\n",
    "</center>\n",
    "\n",
    "# Working with multiple tables\n",
    "\n",
    "### This Notebook is a part of my studies for IBM Certification in Data Science Professional\n",
    "\n",
    "## What I learned:\n",
    "\n",
    "-  Write SQL queries that access more than one table\n",
    "- Compose queries that access multiple tables using a nested statement in the WHERE clause\n",
    "- Build queries with multiple tables in the FROM clause\n",
    "- Write Implicit Join queries with join criteria specified in the WHERE clause\n",
    "- Specify aliases for table names and qualify column names with table aliases\n"
   ]
  },
  {
   "cell_type": "markdown",
   "metadata": {
    "toc": true
   },
   "source": [
    "<h1>Table of Contents<span class=\"tocSkip\"></span></h1>\n",
    "<div class=\"toc\"><ul class=\"toc-item\"><li><span><a href=\"#Working-with-Multiple-Tables\" data-toc-modified-id=\"Working-with-Multiple-Tables-1\"><span class=\"toc-item-num\">1&nbsp;&nbsp;</span>Working with Multiple Tables</a></span><ul class=\"toc-item\"><li><span><a href=\"#Acessing-multiple-tables-with-Sub-queries\" data-toc-modified-id=\"Acessing-multiple-tables-with-Sub-queries-1.1\"><span class=\"toc-item-num\">1.1&nbsp;&nbsp;</span>Acessing multiple tables with Sub-queries</a></span></li><li><span><a href=\"#Acessing-Multiple-tables-with-Implicit-Join\" data-toc-modified-id=\"Acessing-Multiple-tables-with-Implicit-Join-1.2\"><span class=\"toc-item-num\">1.2&nbsp;&nbsp;</span>Acessing Multiple tables with Implicit Join</a></span></li><li><span><a href=\"#Problems\" data-toc-modified-id=\"Problems-1.3\"><span class=\"toc-item-num\">1.3&nbsp;&nbsp;</span>Problems</a></span><ul class=\"toc-item\"><li><span><a href=\"#Problem-1\" data-toc-modified-id=\"Problem-1-1.3.1\"><span class=\"toc-item-num\">1.3.1&nbsp;&nbsp;</span>Problem 1</a></span></li><li><span><a href=\"#Problem-2\" data-toc-modified-id=\"Problem-2-1.3.2\"><span class=\"toc-item-num\">1.3.2&nbsp;&nbsp;</span>Problem 2</a></span></li><li><span><a href=\"#Problem-3\" data-toc-modified-id=\"Problem-3-1.3.3\"><span class=\"toc-item-num\">1.3.3&nbsp;&nbsp;</span>Problem 3</a></span></li><li><span><a href=\"#Problem-4\" data-toc-modified-id=\"Problem-4-1.3.4\"><span class=\"toc-item-num\">1.3.4&nbsp;&nbsp;</span>Problem 4</a></span></li><li><span><a href=\"#Problem-5\" data-toc-modified-id=\"Problem-5-1.3.5\"><span class=\"toc-item-num\">1.3.5&nbsp;&nbsp;</span>Problem 5</a></span></li><li><span><a href=\"#Problem-6\" data-toc-modified-id=\"Problem-6-1.3.6\"><span class=\"toc-item-num\">1.3.6&nbsp;&nbsp;</span>Problem 6</a></span></li><li><span><a href=\"#Problem-7\" data-toc-modified-id=\"Problem-7-1.3.7\"><span class=\"toc-item-num\">1.3.7&nbsp;&nbsp;</span>Problem 7</a></span></li><li><span><a href=\"#Problem-8\" data-toc-modified-id=\"Problem-8-1.3.8\"><span class=\"toc-item-num\">1.3.8&nbsp;&nbsp;</span>Problem 8</a></span></li><li><span><a href=\"#Problem-9\" data-toc-modified-id=\"Problem-9-1.3.9\"><span class=\"toc-item-num\">1.3.9&nbsp;&nbsp;</span>Problem 9</a></span></li><li><span><a href=\"#Problem-9\" data-toc-modified-id=\"Problem-9-1.3.10\"><span class=\"toc-item-num\">1.3.10&nbsp;&nbsp;</span>Problem 9</a></span></li></ul></li></ul></li></ul></div>"
   ]
  },
  {
   "cell_type": "markdown",
   "metadata": {},
   "source": [
    "# Working with Multiple Tables"
   ]
  },
  {
   "cell_type": "markdown",
   "metadata": {},
   "source": [
    "## Acessing multiple tables with Sub-queries"
   ]
  },
  {
   "cell_type": "code",
   "execution_count": 1,
   "metadata": {
    "ExecuteTime": {
     "end_time": "2021-02-27T21:12:18.314344Z",
     "start_time": "2021-02-27T21:12:18.290376Z"
    }
   },
   "outputs": [
    {
     "data": {
      "text/plain": [
       "'\\nselect * from employees\\nwhere DEP_ID IN\\n(select DEPT_ID_EMP from departments);\\n'"
      ]
     },
     "execution_count": 1,
     "metadata": {},
     "output_type": "execute_result"
    }
   ],
   "source": [
    "# Example 1: To retrieve only the employee records that correspond to departments in the DEPARTMENTS table:\n",
    "\n",
    "'''\n",
    "select * from employees\n",
    "where DEP_ID IN\n",
    "(select DEPT_ID_EMP from departments);\n",
    "'''"
   ]
  },
  {
   "cell_type": "code",
   "execution_count": null,
   "metadata": {},
   "outputs": [],
   "source": [
    "# Example 2: Let's say we want to retrieve only the list of employees from a specific location. \n",
    "# We do not have any location information in the employees table, \n",
    "# but the departments table has a column called location ID. \n",
    "# Therefore, we can use a sub-query from the Departments table as input to the employee table query as follows.\n",
    "\n",
    "'''\n",
    "select * from employees\n",
    "where DEP_ID IN\n",
    "   (select DEPT_ID_EMP from departments\n",
    "    where LOC_ID = 'L0002');\n",
    "'''"
   ]
  },
  {
   "cell_type": "code",
   "execution_count": null,
   "metadata": {},
   "outputs": [],
   "source": [
    "# Example 3 - To retrieve the department ID and name for employees who earn more than $70,000:\n",
    "\n",
    "'''\n",
    "select DEPT_ID_DEP, DEP_NAME from departments \n",
    "where DEPT_ID_DEP IN\n",
    "   (select DEP_ID from employees\n",
    "    where SALARY > 70000);\n",
    "'''"
   ]
  },
  {
   "cell_type": "markdown",
   "metadata": {
    "ExecuteTime": {
     "end_time": "2021-02-27T21:25:30.419154Z",
     "start_time": "2021-02-27T21:25:30.415158Z"
    }
   },
   "source": [
    "## Acessing Multiple tables with Implicit Join"
   ]
  },
  {
   "cell_type": "code",
   "execution_count": 4,
   "metadata": {
    "ExecuteTime": {
     "end_time": "2021-02-27T21:29:32.452256Z",
     "start_time": "2021-02-27T21:29:32.433293Z"
    }
   },
   "outputs": [
    {
     "data": {
      "text/plain": [
       "'\\nselect * from employees E, departments D\\n    where E.DEP_ID = \\n        D.DEPT_ID_DEP;\\n'"
      ]
     },
     "execution_count": 4,
     "metadata": {},
     "output_type": "execute_result"
    }
   ],
   "source": [
    "# Using additional operands to limit the result set:\n",
    "'''\n",
    "select * from employees, departments\n",
    "    where employees.DEP_ID = \n",
    "        departments.DEPT_ID_DEP;'''\n",
    "\n",
    "# We could use also short aliases for table names:\n",
    "\n",
    "'''\n",
    "select * from employees E, departments D\n",
    "    where E.DEP_ID = \n",
    "        D.DEPT_ID_DEP;\n",
    "'''"
   ]
  },
  {
   "cell_type": "markdown",
   "metadata": {},
   "source": [
    "## Problems"
   ]
  },
  {
   "cell_type": "code",
   "execution_count": 6,
   "metadata": {
    "ExecuteTime": {
     "end_time": "2021-02-27T21:33:54.591670Z",
     "start_time": "2021-02-27T21:33:54.576709Z"
    }
   },
   "outputs": [
    {
     "data": {
      "text/plain": [
       "'\\nSELECT column_name(s)\\nFROM table1, table2;\\n'"
      ]
     },
     "execution_count": 6,
     "metadata": {},
     "output_type": "execute_result"
    }
   ],
   "source": [
    "# How does an Implicit version of CROSS JOIN (also known as Cartesian Join) statement syntax look?\n",
    "\n",
    "'''\n",
    "SELECT column_name(s)\n",
    "FROM table1, table2;\n",
    "'''"
   ]
  },
  {
   "cell_type": "code",
   "execution_count": 7,
   "metadata": {
    "ExecuteTime": {
     "end_time": "2021-02-27T21:34:30.179936Z",
     "start_time": "2021-02-27T21:34:30.159989Z"
    }
   },
   "outputs": [
    {
     "data": {
      "text/plain": [
       "'\\nSELECT column_name(s)\\nFROM table1, table2\\nWHERE table1.column_name = table2.column_name;\\n'"
      ]
     },
     "execution_count": 7,
     "metadata": {},
     "output_type": "execute_result"
    }
   ],
   "source": [
    "# How does an Implicit version of INNER JOIN statement syntax look?\n",
    "\n",
    "'''\n",
    "SELECT column_name(s)\n",
    "FROM table1, table2\n",
    "WHERE table1.column_name = table2.column_name;\n",
    "'''"
   ]
  },
  {
   "cell_type": "markdown",
   "metadata": {},
   "source": [
    "In this lab, I used an IBM Db2 Database. Db2 is a Relational Database Management System (RDBMS) from IBM, designed to store, analyze and retrieve data efficiently.\n",
    "\n",
    "<br>\n",
    "I will be working on a sample HR database. This HR database schema consists of 5 tables called EMPLOYEES, JOB_HISTORY, JOBS, DEPARTMENTS and LOCATIONS. Each table has a few rows of sample data.\n",
    "<br>"
   ]
  },
  {
   "cell_type": "markdown",
   "metadata": {
    "ExecuteTime": {
     "end_time": "2021-02-27T21:36:20.173637Z",
     "start_time": "2021-02-27T21:36:20.160642Z"
    }
   },
   "source": [
    "The following diagram shows the tables for the HR database:  \n",
    "<br>\n",
    "<br>\n",
    "\n",
    "<img src=\"images/HR_Database.png\" alt=\"HR_Database\" style=\"height: 700px; width:700px;\"/>"
   ]
  },
  {
   "cell_type": "markdown",
   "metadata": {},
   "source": [
    "### Problem 1\n",
    "    Retrieve only the EMPLOYEES records that correspond to jobs in the JOBS table.\n",
    " \n",
    "Solution:\n",
    "    \n",
    " > select * <br> \n",
    " from employees <br>\n",
    " where JOB_ID IN (select JOB_IDENT from jobs);"
   ]
  },
  {
   "cell_type": "markdown",
   "metadata": {},
   "source": [
    "### Problem 2\n",
    "    Retrieve only the list of employees whose JOB_TITLE is Jr. Designer.\n",
    " \n",
    "Solution:\n",
    "    \n",
    " > select * <br> \n",
    " from employees <br>\n",
    " where JOB_ID IN (select JOB_IDENT from jobs where JOB_TITLE= 'Jr. Designer');"
   ]
  },
  {
   "cell_type": "markdown",
   "metadata": {},
   "source": [
    "### Problem 3\n",
    "    Retrieve JOB information and list of employees who earn more than $90,000.\n",
    " \n",
    "Solution:\n",
    "    \n",
    " > select JOB_IDENT, JOB_TITLE, MIN_SALARY, MAX_SALARY <br> \n",
    " from jobs <br>\n",
    " where JOB_IDENT IN (select JOB_ID from jobs where SALARY > 90000);"
   ]
  },
  {
   "cell_type": "markdown",
   "metadata": {},
   "source": [
    "### Problem 4\n",
    "    Retrieve JOB information and list of employees whose birth year is after 1976.\n",
    " \n",
    "Solution:\n",
    "    \n",
    " > select JOB_IDENT, JOB_TITLE, MIN_SALARY, MAX_SALARY <br> \n",
    " from jobs <br>\n",
    " where JOB_IDENT IN (select JOB_ID from employees where YEAR(B_DATE) > 1976);"
   ]
  },
  {
   "cell_type": "markdown",
   "metadata": {},
   "source": [
    "### Problem 5\n",
    "    Retrieve JOB information and list of female employees whose birth year is after 1976.\n",
    " \n",
    "Solution:\n",
    "    \n",
    " > select JOB_IDENT, JOB_TITLE, MIN_SALARY, MAX_SALARY <br> \n",
    " from jobs <br>\n",
    " where JOB_IDENT IN (select JOB_ID from employees where YEAR(B_DATE) > 1976 and SEX='F');"
   ]
  },
  {
   "cell_type": "markdown",
   "metadata": {},
   "source": [
    "### Problem 6\n",
    "    Perform an implicit cartesian/cross join between EMPLOYEES and JOBS tables.\n",
    " \n",
    "Solution:\n",
    "    \n",
    " > select * <br> \n",
    " from employees, jobs; <br>\n",
    " "
   ]
  },
  {
   "cell_type": "markdown",
   "metadata": {},
   "source": [
    "### Problem 7\n",
    "    Retrieve only the EMPLOYEES records that correspond to jobs in the JOBS table.\n",
    "Solution:\n",
    "    \n",
    " > select * <br> \n",
    " from employees, jobs <br>\n",
    " where employees.JOB_ID = jobs.JOB_IDENT; <br>\n",
    " "
   ]
  },
  {
   "cell_type": "markdown",
   "metadata": {},
   "source": [
    "### Problem 8\n",
    "    Redo the previous query, using shorter aliases for table names.\n",
    " \n",
    "Solution:\n",
    "    \n",
    " > select * <br> \n",
    " from employees E, jobs J <br>\n",
    " where E.JOB_ID = J.JOB_IDENT; <br>\n",
    " "
   ]
  },
  {
   "cell_type": "markdown",
   "metadata": {},
   "source": [
    "### Problem 9\n",
    "    Redo the previous query, but retrieve only the Employee ID, Employee Name and Job Title.\n",
    " \n",
    "Solution:\n",
    "    \n",
    " > select EMP_ID,F_NAME,L_NAME, JOB_TITLE <br> \n",
    " from employees E, jobs J <br>\n",
    " where E.JOB_ID = J.JOB_IDENT; <br>\n",
    " "
   ]
  },
  {
   "cell_type": "markdown",
   "metadata": {},
   "source": [
    "<h2>About the Author:</h2> \n",
    "\n",
    "<a href=\"https://www.linkedin.com/in/wanderson-torres-31049522/\">Wanderson Torres</a>\n"
   ]
  }
 ],
 "metadata": {
  "hide_input": false,
  "kernelspec": {
   "display_name": "Python 3",
   "language": "python",
   "name": "python3"
  },
  "language_info": {
   "codemirror_mode": {
    "name": "ipython",
    "version": 3
   },
   "file_extension": ".py",
   "mimetype": "text/x-python",
   "name": "python",
   "nbconvert_exporter": "python",
   "pygments_lexer": "ipython3",
   "version": "3.8.3"
  },
  "toc": {
   "base_numbering": 1,
   "nav_menu": {},
   "number_sections": true,
   "sideBar": true,
   "skip_h1_title": false,
   "title_cell": "Table of Contents",
   "title_sidebar": "Contents",
   "toc_cell": true,
   "toc_position": {},
   "toc_section_display": true,
   "toc_window_display": false
  },
  "varInspector": {
   "cols": {
    "lenName": 16,
    "lenType": 16,
    "lenVar": 40
   },
   "kernels_config": {
    "python": {
     "delete_cmd_postfix": "",
     "delete_cmd_prefix": "del ",
     "library": "var_list.py",
     "varRefreshCmd": "print(var_dic_list())"
    },
    "r": {
     "delete_cmd_postfix": ") ",
     "delete_cmd_prefix": "rm(",
     "library": "var_list.r",
     "varRefreshCmd": "cat(var_dic_list()) "
    }
   },
   "types_to_exclude": [
    "module",
    "function",
    "builtin_function_or_method",
    "instance",
    "_Feature"
   ],
   "window_display": false
  }
 },
 "nbformat": 4,
 "nbformat_minor": 4
}
