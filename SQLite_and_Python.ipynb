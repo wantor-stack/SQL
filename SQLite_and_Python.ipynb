{
 "cells": [
  {
   "cell_type": "markdown",
   "metadata": {},
   "source": [
    "\n",
    "# Working with SQLite and Python\n",
    "\n",
    "### This Notebook is a part of my studies for IBM Certification in Data Science Professional\n",
    "\n",
    "## What I learned:\n",
    "\n",
    "- With SQLite and Python:\n",
    "\n",
    "    - Connect DBases \n",
    "    - Create DBases \n",
    "    - Insert \n",
    "    - Select \n",
    "    - Update \n",
    "    - INNER JOIN \n",
    "    - LEFT OUTER JOIN \n",
    "    - CROSS JOIN or CARTESIAN JOIN\n"
   ]
  },
  {
   "cell_type": "code",
   "execution_count": null,
   "metadata": {},
   "outputs": [],
   "source": []
  },
  {
   "cell_type": "code",
   "execution_count": 1,
   "metadata": {},
   "outputs": [],
   "source": [
    "import sqlite3\n",
    "engine = sqlite3.connect('sql4.db')"
   ]
  },
  {
   "cell_type": "code",
   "execution_count": 2,
   "metadata": {},
   "outputs": [
    {
     "data": {
      "text/plain": [
       "[]"
      ]
     },
     "execution_count": 2,
     "metadata": {},
     "output_type": "execute_result"
    }
   ],
   "source": [
    "cursor = engine.cursor()\n",
    "\n",
    "cursor.execute(\"PRAGMA foreign_keys = ON\").fetchall()\n",
    "\n",
    "### cursor.execute(\"PRAGMA foreign_keys\").fetchall()"
   ]
  },
  {
   "cell_type": "markdown",
   "metadata": {},
   "source": [
    "### Syntax:\n",
    "### \"CREATE [TEMP | TEMPORARY] TABLE table-name (\n",
    "### column-def[, column-def]\n",
    "### [,constraint]);\n",
    "\n",
    "### column-def:\n",
    "### name [type] [[CONSTRAINT name] column-constraint]\""
   ]
  },
  {
   "cell_type": "code",
   "execution_count": 49,
   "metadata": {},
   "outputs": [],
   "source": [
    "sql_create_projects_table = 'CREATE TABLE IF NOT EXISTS projects (\\\n",
    "                                        id integer PRIMARY KEY,\\\n",
    "                                        name text NOT NULL,\\\n",
    "                                        begin_date text,\\\n",
    "                                        end_date text\\\n",
    "                                    )'"
   ]
  },
  {
   "cell_type": "code",
   "execution_count": 50,
   "metadata": {},
   "outputs": [],
   "source": [
    "sql_create_tasks_table = \"\"\"CREATE TABLE IF NOT EXISTS tasks (\n",
    "                                    id integer PRIMARY KEY,\n",
    "                                    name text NOT NULL,\n",
    "                                    priority integer,\n",
    "                                    status_id integer NOT NULL,\n",
    "                                    project_id integer NOT NULL REFERENCES projects (id),\n",
    "                                    begin_date text NOT NULL,\n",
    "                                    end_date text NOT NULL\n",
    "                                );\"\"\"\n",
    "# StudentId INT REFERENCES Student (StudentId)\n",
    "#FOREIGN KEY (project_id) REFERENCES projects (id)"
   ]
  },
  {
   "cell_type": "code",
   "execution_count": 51,
   "metadata": {},
   "outputs": [
    {
     "data": {
      "text/plain": [
       "<sqlite3.Cursor at 0x11266f340>"
      ]
     },
     "execution_count": 51,
     "metadata": {},
     "output_type": "execute_result"
    }
   ],
   "source": [
    "cursor.execute(sql_create_projects_table)"
   ]
  },
  {
   "cell_type": "code",
   "execution_count": 22,
   "metadata": {},
   "outputs": [
    {
     "data": {
      "text/plain": [
       "<sqlite3.Cursor at 0x10b580c00>"
      ]
     },
     "execution_count": 22,
     "metadata": {},
     "output_type": "execute_result"
    }
   ],
   "source": [
    "cursor.execute(sql_create_tasks_table)"
   ]
  },
  {
   "cell_type": "code",
   "execution_count": 7,
   "metadata": {},
   "outputs": [
    {
     "name": "stdout",
     "output_type": "stream",
     "text": [
      "0 id integer\n",
      "1 name text\n",
      "2 begin_date text\n",
      "3 end_date text\n"
     ]
    }
   ],
   "source": [
    "data = cursor.execute(\"PRAGMA table_info(projects)\").fetchall()\n",
    "for d in data:\n",
    "    print (d[0], d[1], d[2])"
   ]
  },
  {
   "cell_type": "code",
   "execution_count": 24,
   "metadata": {},
   "outputs": [
    {
     "name": "stdout",
     "output_type": "stream",
     "text": [
      "0 id integer\n",
      "1 name text\n",
      "2 priority integer\n",
      "3 status_id integer\n",
      "4 project_id integer\n",
      "5 begin_date text\n",
      "6 end_date text\n"
     ]
    }
   ],
   "source": [
    "data = cursor.execute(\"PRAGMA table_info(tasks)\").fetchall()\n",
    "for d in data:\n",
    "    print (d[0], d[1],d[2])"
   ]
  },
  {
   "cell_type": "markdown",
   "metadata": {},
   "source": [
    "## SYNTAX (INSERT): \n",
    "\n",
    "### \"INSERT [OR conflict-algorithm]\n",
    "### INTO [database-name .] table-name [(column-list)]\n",
    "### VALUES (value-list)\""
   ]
  },
  {
   "cell_type": "code",
   "execution_count": 25,
   "metadata": {},
   "outputs": [
    {
     "data": {
      "text/plain": [
       "<sqlite3.Cursor at 0x10b580c00>"
      ]
     },
     "execution_count": 25,
     "metadata": {},
     "output_type": "execute_result"
    }
   ],
   "source": [
    "cursor.execute(\"INSERT INTO projects (name,begin_date,end_date) VALUES ('Project03','2021-02-23','2021-03-23')\")"
   ]
  },
  {
   "cell_type": "code",
   "execution_count": 26,
   "metadata": {},
   "outputs": [],
   "source": [
    "engine.commit()"
   ]
  },
  {
   "cell_type": "markdown",
   "metadata": {},
   "source": [
    "## SYNTAX (SELECT): \n",
    "\n",
    "### SELECT [ALL | DISTINCT] result [FROM table-list]\n",
    "### [WHERE expr]\n",
    "### [GROUP BY expr-list]\n",
    "### [HAVING expr]\n",
    "### [compound-op select]*\n",
    "### [ORDER BY sort-expr-list]\n",
    "### [LIMIT integer [(OFFSET|,) integer]]"
   ]
  },
  {
   "cell_type": "code",
   "execution_count": 27,
   "metadata": {},
   "outputs": [
    {
     "data": {
      "text/plain": [
       "[(1, 'Project03', '2021-02-23', '2021-03-23')]"
      ]
     },
     "execution_count": 27,
     "metadata": {},
     "output_type": "execute_result"
    }
   ],
   "source": [
    "cursor.execute('SELECT * FROM projects ').fetchall()"
   ]
  },
  {
   "cell_type": "code",
   "execution_count": 29,
   "metadata": {},
   "outputs": [
    {
     "data": {
      "text/plain": [
       "<sqlite3.Cursor at 0x10b580c00>"
      ]
     },
     "execution_count": 29,
     "metadata": {},
     "output_type": "execute_result"
    }
   ],
   "source": [
    "cursor.execute(\"INSERT INTO tasks (name,priority,status_id,project_id,begin_date,end_date)\\\n",
    "    VALUES ('task05',0,1,10,'2021-02-23','2021-03-23')\")"
   ]
  },
  {
   "cell_type": "code",
   "execution_count": 30,
   "metadata": {},
   "outputs": [],
   "source": [
    "#tasks=[(1,'task01',0,1,0,'2021-02-23','2021-03-23'), (2,'task02',0,1,0,'2021-02-23','2021-03-23')]\n",
    "#cursor.executemany('INSERT INTO tasks VALUES (?,?,?,?,?,?,?)', tasks)"
   ]
  },
  {
   "cell_type": "code",
   "execution_count": 31,
   "metadata": {},
   "outputs": [
    {
     "data": {
      "text/plain": [
       "[(1, 'task05', 0, 1, 1, '2021-02-23', '2021-03-23')]"
      ]
     },
     "execution_count": 31,
     "metadata": {},
     "output_type": "execute_result"
    }
   ],
   "source": [
    "cursor.execute(\"SELECT * from tasks\").fetchall()"
   ]
  },
  {
   "cell_type": "code",
   "execution_count": null,
   "metadata": {},
   "outputs": [],
   "source": []
  },
  {
   "cell_type": "code",
   "execution_count": null,
   "metadata": {},
   "outputs": [],
   "source": []
  },
  {
   "cell_type": "code",
   "execution_count": 3,
   "metadata": {},
   "outputs": [
    {
     "data": {
      "text/plain": [
       "<sqlite3.Cursor at 0x10c268110>"
      ]
     },
     "execution_count": 3,
     "metadata": {},
     "output_type": "execute_result"
    }
   ],
   "source": [
    "cursor.execute('''CREATE TABLE EMP (EMPNO int, ENAME text, JOB text, MGR int, HIREDATE date, SAL real,COMM int, DEPTNO int)''')"
   ]
  },
  {
   "cell_type": "code",
   "execution_count": 4,
   "metadata": {},
   "outputs": [
    {
     "name": "stdout",
     "output_type": "stream",
     "text": [
      "0 EMPNO int\n",
      "1 ENAME text\n",
      "2 JOB text\n",
      "3 MGR int\n",
      "4 HIREDATE date\n",
      "5 SAL real\n",
      "6 COMM int\n",
      "7 DEPTNO int\n"
     ]
    }
   ],
   "source": [
    "data = cursor.execute(\"PRAGMA table_info(EMP)\").fetchall()\n",
    "for d in data:\n",
    "    print (d[0], d[1], d[2])"
   ]
  },
  {
   "cell_type": "code",
   "execution_count": 5,
   "metadata": {},
   "outputs": [],
   "source": [
    " employes = [(7369, 'SMITH',  'CLERK', 7902, '2005-12-11', 800, 150 , 20),\n",
    " (7499, 'ALLEN',  'SALESMAN', 7698, '2006-02-23',1600, 300, 30),\n",
    " (7521, 'WARD', 'SALESMAN', 7698,'2006-02-26', 1250, 500, 30),\n",
    " (7566, 'JONES','MANAGER', 7839,'2006-04-02', 2975, 520, 20),            \n",
    " (7654, 'MARTIN','SALESMAN', 7698,'2006-09-28', 1400, 420, 30),\n",
    " (7698, 'BLAKE','MANAGER', 7839,'2006-05-1', 2850, 600, 30),\n",
    " (7782, 'CLARK', 'MANAGER', 7839, '2006-06-09',2450, 580,10),\n",
    " (7788, 'SCOTT', 'ANALYST', 7566,'2007-12-09',3000,640,20),\n",
    " (7839, 'KING','PRESIDENT','', '2006-11-17',5000,0,10),\n",
    " (7844, 'TURNER', 'SALESMAN',7698,'2006-09-13',1500,0,30),\n",
    " (7876, 'ADAMS', 'CLERK',7788, '2008-01-12',1100,50,20),\n",
    " (7900, 'JAMES', 'CLERK',7698, '2006-12-03',950,40,30),\n",
    " (7902, 'FORD', 'ANALYST',7566,'2006-12-03',3000,10,20),\n",
    " (7934, 'MILLER','CLERK',7782,'2007-01-23',1300,\"\",10)]"
   ]
  },
  {
   "cell_type": "code",
   "execution_count": 6,
   "metadata": {},
   "outputs": [
    {
     "data": {
      "text/plain": [
       "<sqlite3.Cursor at 0x10c268110>"
      ]
     },
     "execution_count": 6,
     "metadata": {},
     "output_type": "execute_result"
    }
   ],
   "source": [
    "cursor.executemany('INSERT INTO EMP VALUES (?,?,?,?,?,?,?,?)', employes)"
   ]
  },
  {
   "cell_type": "code",
   "execution_count": 7,
   "metadata": {},
   "outputs": [
    {
     "data": {
      "text/plain": [
       "[(7369, 'SMITH', 'CLERK', 7902, '2005-12-11', 800.0, 150, 20),\n",
       " (7499, 'ALLEN', 'SALESMAN', 7698, '2006-02-23', 1600.0, 300, 30),\n",
       " (7521, 'WARD', 'SALESMAN', 7698, '2006-02-26', 1250.0, 500, 30),\n",
       " (7566, 'JONES', 'MANAGER', 7839, '2006-04-02', 2975.0, 520, 20),\n",
       " (7654, 'MARTIN', 'SALESMAN', 7698, '2006-09-28', 1400.0, 420, 30),\n",
       " (7698, 'BLAKE', 'MANAGER', 7839, '2006-05-1', 2850.0, 600, 30),\n",
       " (7782, 'CLARK', 'MANAGER', 7839, '2006-06-09', 2450.0, 580, 10),\n",
       " (7788, 'SCOTT', 'ANALYST', 7566, '2007-12-09', 3000.0, 640, 20),\n",
       " (7839, 'KING', 'PRESIDENT', '', '2006-11-17', 5000.0, 0, 10),\n",
       " (7844, 'TURNER', 'SALESMAN', 7698, '2006-09-13', 1500.0, 0, 30),\n",
       " (7876, 'ADAMS', 'CLERK', 7788, '2008-01-12', 1100.0, 50, 20),\n",
       " (7900, 'JAMES', 'CLERK', 7698, '2006-12-03', 950.0, 40, 30),\n",
       " (7902, 'FORD', 'ANALYST', 7566, '2006-12-03', 3000.0, 10, 20),\n",
       " (7934, 'MILLER', 'CLERK', 7782, '2007-01-23', 1300.0, '', 10)]"
      ]
     },
     "execution_count": 7,
     "metadata": {},
     "output_type": "execute_result"
    }
   ],
   "source": [
    "cursor.execute('SELECT * FROM EMP').fetchall()"
   ]
  },
  {
   "cell_type": "code",
   "execution_count": 8,
   "metadata": {},
   "outputs": [
    {
     "data": {
      "text/plain": [
       "<sqlite3.Cursor at 0x10c268110>"
      ]
     },
     "execution_count": 8,
     "metadata": {},
     "output_type": "execute_result"
    }
   ],
   "source": [
    "cursor.execute('''CREATE TABLE DEPT\n",
    "             (DEPTNO int not null, DNAME  text, LOC text)''')"
   ]
  },
  {
   "cell_type": "code",
   "execution_count": 9,
   "metadata": {},
   "outputs": [],
   "source": [
    "depts = [(10,'ACCOUNTING','NEW YORK'),\n",
    "         (20,'RESEARCH','DALLAS'),\n",
    "         (30,'SALES','CHICAGO'),\n",
    "         (40,'OPERATIONS','BOSTON')] \n"
   ]
  },
  {
   "cell_type": "code",
   "execution_count": 10,
   "metadata": {},
   "outputs": [
    {
     "data": {
      "text/plain": [
       "list"
      ]
     },
     "execution_count": 10,
     "metadata": {},
     "output_type": "execute_result"
    }
   ],
   "source": [
    "type(depts)"
   ]
  },
  {
   "cell_type": "code",
   "execution_count": 11,
   "metadata": {},
   "outputs": [
    {
     "data": {
      "text/plain": [
       "<sqlite3.Cursor at 0x10c268110>"
      ]
     },
     "execution_count": 11,
     "metadata": {},
     "output_type": "execute_result"
    }
   ],
   "source": [
    "cursor.executemany('INSERT INTO DEPT VALUES (?,?,?)', depts)"
   ]
  },
  {
   "cell_type": "code",
   "execution_count": 12,
   "metadata": {},
   "outputs": [
    {
     "data": {
      "text/plain": [
       "[(10, 'ACCOUNTING', 'NEW YORK'),\n",
       " (20, 'RESEARCH', 'DALLAS'),\n",
       " (30, 'SALES', 'CHICAGO'),\n",
       " (40, 'OPERATIONS', 'BOSTON')]"
      ]
     },
     "execution_count": 12,
     "metadata": {},
     "output_type": "execute_result"
    }
   ],
   "source": [
    "cursor.execute('SELECT * FROM DEPT').fetchall()"
   ]
  },
  {
   "cell_type": "code",
   "execution_count": 14,
   "metadata": {},
   "outputs": [
    {
     "name": "stdout",
     "output_type": "stream",
     "text": [
      "NAME\n",
      "JOB\n"
     ]
    }
   ],
   "source": [
    "### SELECT - Filtrando por atributos (Colunas) ##### \n",
    "\n",
    "data = cursor.execute('select ename as NAME, job from emp').fetchall()\n",
    "for x in cursor.description: \n",
    "    print(x[0])\n",
    "\n"
   ]
  },
  {
   "cell_type": "code",
   "execution_count": 15,
   "metadata": {},
   "outputs": [
    {
     "data": {
      "text/plain": [
       "[(7369, 'SMITH', 'CLERK', 7902, '2005-12-11', 800.0, 150, 20),\n",
       " (7566, 'JONES', 'MANAGER', 7839, '2006-04-02', 2975.0, 520, 20),\n",
       " (7782, 'CLARK', 'MANAGER', 7839, '2006-06-09', 2450.0, 580, 10),\n",
       " (7788, 'SCOTT', 'ANALYST', 7566, '2007-12-09', 3000.0, 640, 20),\n",
       " (7839, 'KING', 'PRESIDENT', '', '2006-11-17', 5000.0, 0, 10),\n",
       " (7876, 'ADAMS', 'CLERK', 7788, '2008-01-12', 1100.0, 50, 20),\n",
       " (7902, 'FORD', 'ANALYST', 7566, '2006-12-03', 3000.0, 10, 20),\n",
       " (7934, 'MILLER', 'CLERK', 7782, '2007-01-23', 1300.0, '', 10)]"
      ]
     },
     "execution_count": 15,
     "metadata": {},
     "output_type": "execute_result"
    }
   ],
   "source": [
    "### Retrieving a Subset of Rows from a Table #### \n",
    "cursor.execute('select * from emp where deptno < 30').fetchall()"
   ]
  },
  {
   "cell_type": "code",
   "execution_count": 70,
   "metadata": {},
   "outputs": [
    {
     "data": {
      "text/plain": [
       "[(9,)]"
      ]
     },
     "execution_count": 70,
     "metadata": {},
     "output_type": "execute_result"
    }
   ],
   "source": [
    "cursor.execute('select count(deptno) from emp where deptno != 20').fetchall()"
   ]
  },
  {
   "cell_type": "code",
   "execution_count": 71,
   "metadata": {},
   "outputs": [
    {
     "data": {
      "text/plain": [
       "[('CLERK',), ('MANAGER',), ('ANALYST',)]"
      ]
     },
     "execution_count": 71,
     "metadata": {},
     "output_type": "execute_result"
    }
   ],
   "source": [
    "cursor.execute('select DISTINCT job from emp where deptno =20').fetchall()"
   ]
  },
  {
   "cell_type": "code",
   "execution_count": 72,
   "metadata": {},
   "outputs": [
    {
     "data": {
      "text/plain": [
       "[(7369, 'SMITH', 'CLERK', 7902, '2005-12-11', 800.0, 150, 20),\n",
       " (7566, 'JONES', 'MANAGER', 7839, '2006-04-02', 2975.0, 520, 20),\n",
       " (7788, 'SCOTT', 'ANALYST', 7566, '2007-12-09', 3000.0, 640, 20),\n",
       " (7876, 'ADAMS', 'CLERK', 7788, '2008-01-12', 1100.0, 50, 20),\n",
       " (7902, 'FORD', 'ANALYST', 7566, '2006-12-03', 3000.0, 10, 20)]"
      ]
     },
     "execution_count": 72,
     "metadata": {},
     "output_type": "execute_result"
    }
   ],
   "source": [
    "cursor.execute('select * from emp where deptno =20').fetchall()"
   ]
  },
  {
   "cell_type": "markdown",
   "metadata": {},
   "source": [
    "### SYNTAX (UPDATE): \n",
    "\n",
    "### UPDATE table_name SET column_name=new_value [, ...] WHERE expression\n"
   ]
  },
  {
   "cell_type": "code",
   "execution_count": 73,
   "metadata": {},
   "outputs": [
    {
     "data": {
      "text/plain": [
       "[(7369, 'SMITH', 'CLERK', 7902, '2005-12-11', 880.0000000000001, 150, 20),\n",
       " (7566, 'JONES', 'MANAGER', 7839, '2006-04-02', 3272.5000000000005, 520, 20),\n",
       " (7788, 'SCOTT', 'ANALYST', 7566, '2007-12-09', 3300.0000000000005, 640, 20),\n",
       " (7876, 'ADAMS', 'CLERK', 7788, '2008-01-12', 1210.0, 50, 20),\n",
       " (7902, 'FORD', 'ANALYST', 7566, '2006-12-03', 3300.0000000000005, 10, 20)]"
      ]
     },
     "execution_count": 73,
     "metadata": {},
     "output_type": "execute_result"
    }
   ],
   "source": [
    "cursor.execute('update emp set sal = sal*1.10 where deptno = 20')\n",
    "engine.commit()\n",
    "cursor.execute('select * from emp where deptno =20').fetchall()"
   ]
  },
  {
   "cell_type": "code",
   "execution_count": 34,
   "metadata": {},
   "outputs": [
    {
     "data": {
      "text/plain": [
       "[('CLARK', 'MANAGER'), ('KING', 'PRESIDENT'), ('MILLER', 'CLERK')]"
      ]
     },
     "execution_count": 34,
     "metadata": {},
     "output_type": "execute_result"
    }
   ],
   "source": [
    "### Using Where #### \n",
    "cursor.execute('select ename, job from emp where deptno = 10').fetchall()"
   ]
  },
  {
   "cell_type": "code",
   "execution_count": 118,
   "metadata": {},
   "outputs": [
    {
     "name": "stdout",
     "output_type": "stream",
     "text": [
      "status\n",
      "Name, Salary, Status\n",
      "SMITH 880.0000000000001 UNDERPAID\n",
      "ALLEN 1600.0 UNDERPAID\n",
      "WARD 1250.0 UNDERPAID\n",
      "JONES 3272.5000000000005 OK\n",
      "MARTIN 1400.0 UNDERPAID\n",
      "BLAKE 2850.0 OK\n",
      "CLARK 2450.0 OK\n",
      "SCOTT 3300.0000000000005 OK\n",
      "KING 5000.0 OVERPAID\n",
      "TURNER 1500.0 UNDERPAID\n",
      "ADAMS 1210.0 UNDERPAID\n",
      "JAMES 950.0 UNDERPAID\n",
      "FORD 3300.0000000000005 OK\n",
      "MILLER 1300.0 UNDERPAID\n"
     ]
    }
   ],
   "source": [
    "### Using Conditional Logic in a SELECT Statement #### \n",
    "data = cursor.execute('select ename,sal, case when sal <= 2000 then \"UNDERPAID\"\\\n",
    "                when sal >= 4000 then \"OVERPAID\"\\\n",
    "                else \"OK\" end as status from emp').fetchall()\n",
    "\n",
    "x = cursor.description\n",
    "print(x[2][0])\n",
    "\n",
    "print(\"Name, Salary, Status\")\n",
    "for d in data: \n",
    "    print (d[0], d[1], d[2])\n",
    "    \n",
    "#### case when condição (sal <=2000) then faz alguma ação (\"UNDERPAID\")\n",
    "###  when outra condição  xxx then uma outra ação \n",
    "### else executa última ação\n",
    "### end fecha a clausla do case "
   ]
  },
  {
   "cell_type": "code",
   "execution_count": 45,
   "metadata": {},
   "outputs": [
    {
     "data": {
      "text/plain": [
       "[(7369, 'SMITH', 'CLERK', 7902, '2005-12-11', 800.0, 150, 20),\n",
       " (7499, 'ALLEN', 'SALESMAN', 7698, '2006-02-23', 1600.0, 300, 30),\n",
       " (7521, 'WARD', 'SALESMAN', 7698, '2006-02-26', 1250.0, 500, 30),\n",
       " (7566, 'JONES', 'MANAGER', 7839, '2006-04-02', 2975.0, 520, 20),\n",
       " (7654, 'MARTIN', 'SALESMAN', 7698, '2006-09-28', 1400.0, 420, 30)]"
      ]
     },
     "execution_count": 45,
     "metadata": {},
     "output_type": "execute_result"
    }
   ],
   "source": [
    "### Limiting the Number of Rows Returned #### \n",
    "cursor.execute('select * from emp limit 5').fetchall()"
   ]
  },
  {
   "cell_type": "code",
   "execution_count": 46,
   "metadata": {},
   "outputs": [
    {
     "data": {
      "text/plain": [
       "[('BLAKE', 'MANAGER'),\n",
       " ('MILLER', 'CLERK'),\n",
       " ('ALLEN', 'SALESMAN'),\n",
       " ('TURNER', 'SALESMAN'),\n",
       " ('FORD', 'ANALYST')]"
      ]
     },
     "execution_count": 46,
     "metadata": {},
     "output_type": "execute_result"
    }
   ],
   "source": [
    "### Returning Valores aleatórios #####\n",
    "cursor.execute('select ename,job from emp order by random() limit 5').fetchall()"
   ]
  },
  {
   "cell_type": "code",
   "execution_count": 23,
   "metadata": {},
   "outputs": [
    {
     "data": {
      "text/plain": [
       "[('SMITH', 'CLERK'),\n",
       " ('JONES', 'MANAGER'),\n",
       " ('CLARK', 'MANAGER'),\n",
       " ('SCOTT', 'ANALYST'),\n",
       " ('KING', 'PRESIDENT'),\n",
       " ('ADAMS', 'CLERK'),\n",
       " ('FORD', 'ANALYST'),\n",
       " ('MILLER', 'CLERK')]"
      ]
     },
     "execution_count": 23,
     "metadata": {},
     "output_type": "execute_result"
    }
   ],
   "source": [
    "## Searching for Patterns ####\n",
    "cursor.execute('select ename, job from emp where deptno in (10,20)').fetchall()"
   ]
  },
  {
   "cell_type": "code",
   "execution_count": 24,
   "metadata": {},
   "outputs": [
    {
     "data": {
      "text/plain": [
       "[('SMITH', 'CLERK'),\n",
       " ('JONES', 'MANAGER'),\n",
       " ('CLARK', 'MANAGER'),\n",
       " ('KING', 'PRESIDENT'),\n",
       " ('MILLER', 'CLERK')]"
      ]
     },
     "execution_count": 24,
     "metadata": {},
     "output_type": "execute_result"
    }
   ],
   "source": [
    "### Searching for Patterns ###\n",
    "cursor.execute('select ename, job from emp where deptno in (10,20)\\\n",
    "and (ename like \"%I%\" or job like \"%ER\")').fetchall()"
   ]
  },
  {
   "cell_type": "code",
   "execution_count": 26,
   "metadata": {},
   "outputs": [
    {
     "data": {
      "text/plain": [
       "[('MILLER', 'CLERK', 1300.0),\n",
       " ('CLARK', 'MANAGER', 2450.0),\n",
       " ('KING', 'PRESIDENT', 5000.0)]"
      ]
     },
     "execution_count": 26,
     "metadata": {},
     "output_type": "execute_result"
    }
   ],
   "source": [
    "#### Order by ###\n",
    "cursor.execute('select ename,job,sal from emp\\\n",
    "    where deptno = 10\\\n",
    "    order by sal asc').fetchall()"
   ]
  },
  {
   "cell_type": "code",
   "execution_count": 75,
   "metadata": {},
   "outputs": [
    {
     "data": {
      "text/plain": [
       "[(7839, 10, 5000.0, 'KING', 'PRESIDENT'),\n",
       " (7782, 10, 2450.0, 'CLARK', 'MANAGER'),\n",
       " (7934, 10, 1300.0, 'MILLER', 'CLERK'),\n",
       " (7788, 20, 3300.0000000000005, 'SCOTT', 'ANALYST'),\n",
       " (7902, 20, 3300.0000000000005, 'FORD', 'ANALYST'),\n",
       " (7566, 20, 3272.5000000000005, 'JONES', 'MANAGER'),\n",
       " (7876, 20, 1210.0, 'ADAMS', 'CLERK'),\n",
       " (7369, 20, 880.0000000000001, 'SMITH', 'CLERK'),\n",
       " (7698, 30, 2850.0, 'BLAKE', 'MANAGER'),\n",
       " (7499, 30, 1600.0, 'ALLEN', 'SALESMAN'),\n",
       " (7844, 30, 1500.0, 'TURNER', 'SALESMAN'),\n",
       " (7654, 30, 1400.0, 'MARTIN', 'SALESMAN'),\n",
       " (7521, 30, 1250.0, 'WARD', 'SALESMAN'),\n",
       " (7900, 30, 950.0, 'JAMES', 'CLERK')]"
      ]
     },
     "execution_count": 75,
     "metadata": {},
     "output_type": "execute_result"
    }
   ],
   "source": [
    "#### Order By #####\n",
    "cursor.execute('select empno,deptno,sal,ename,job\\\n",
    "    from emp\\\n",
    "    order by deptno, sal desc').fetchall()"
   ]
  },
  {
   "cell_type": "code",
   "execution_count": null,
   "metadata": {},
   "outputs": [],
   "source": []
  },
  {
   "cell_type": "code",
   "execution_count": null,
   "metadata": {},
   "outputs": [],
   "source": [
    "####  #########"
   ]
  },
  {
   "cell_type": "code",
   "execution_count": 169,
   "metadata": {},
   "outputs": [],
   "source": [
    "### Relembrando o types dos atributos de cada Tabela \n"
   ]
  },
  {
   "cell_type": "code",
   "execution_count": 24,
   "metadata": {},
   "outputs": [
    {
     "data": {
      "text/plain": [
       "[(0, 'EMPNO', 'int', 0, None, 0),\n",
       " (1, 'ENAME', 'text', 0, None, 0),\n",
       " (2, 'JOB', 'text', 0, None, 0),\n",
       " (3, 'MGR', 'int', 0, None, 0),\n",
       " (4, 'HIREDATE', 'date', 0, None, 0),\n",
       " (5, 'SAL', 'real', 0, None, 0),\n",
       " (6, 'COMM', 'int', 0, None, 0),\n",
       " (7, 'DEPTNO', 'int', 0, None, 0)]"
      ]
     },
     "execution_count": 24,
     "metadata": {},
     "output_type": "execute_result"
    }
   ],
   "source": [
    "data = cursor.execute('PRAGMA table_info(emp)').fetchall()\n",
    "data"
   ]
  },
  {
   "cell_type": "code",
   "execution_count": 27,
   "metadata": {},
   "outputs": [
    {
     "data": {
      "text/plain": [
       "[(0, 'DEPTNO', 'int', 1, None, 0),\n",
       " (1, 'DNAME', 'text', 0, None, 0),\n",
       " (2, 'LOC', 'text', 0, None, 0)]"
      ]
     },
     "execution_count": 27,
     "metadata": {},
     "output_type": "execute_result"
    }
   ],
   "source": [
    "cursor.execute('PRAGMA table_info(dept)')\n",
    "data = cursor.fetchall()\n",
    "data"
   ]
  },
  {
   "cell_type": "code",
   "execution_count": 33,
   "metadata": {},
   "outputs": [
    {
     "data": {
      "text/plain": [
       "[('2005-12-11',)]"
      ]
     },
     "execution_count": 33,
     "metadata": {},
     "output_type": "execute_result"
    }
   ],
   "source": [
    "#### Realizar alguns SELECTS ##### \n",
    "###  Por exemplo Location = New York \n",
    "#### ----- #####\n",
    "sql_select = 'select hiredate from emp where hiredate = \"2005-12-11\"'\n",
    "cursor.execute(sql_select).fetchall()\n"
   ]
  },
  {
   "cell_type": "code",
   "execution_count": 35,
   "metadata": {},
   "outputs": [
    {
     "data": {
      "text/plain": [
       "[('2005-12-11',),\n",
       " ('2006-02-23',),\n",
       " ('2006-02-26',),\n",
       " ('2006-04-02',),\n",
       " ('2006-09-28',),\n",
       " ('2006-05-1',),\n",
       " ('2006-06-09',),\n",
       " ('2007-12-09',),\n",
       " ('2006-11-17',),\n",
       " ('2006-09-13',),\n",
       " ('2008-01-12',),\n",
       " ('2006-12-03',),\n",
       " ('2006-12-03',),\n",
       " ('2007-01-23',)]"
      ]
     },
     "execution_count": 35,
     "metadata": {},
     "output_type": "execute_result"
    }
   ],
   "source": [
    "### Achar datas a partir de 2000\n",
    "sql_select = 'select hiredate from emp where hiredate like \"20%\"'\n",
    "cursor.execute(sql_select).fetchall()"
   ]
  },
  {
   "cell_type": "code",
   "execution_count": 36,
   "metadata": {},
   "outputs": [
    {
     "data": {
      "text/plain": [
       "[('SMITH',),\n",
       " ('ALLEN',),\n",
       " ('WARD',),\n",
       " ('JONES',),\n",
       " ('MARTIN',),\n",
       " ('BLAKE',),\n",
       " ('CLARK',),\n",
       " ('SCOTT',),\n",
       " ('KING',),\n",
       " ('TURNER',),\n",
       " ('ADAMS',),\n",
       " ('JAMES',),\n",
       " ('FORD',),\n",
       " ('MILLER',)]"
      ]
     },
     "execution_count": 36,
     "metadata": {},
     "output_type": "execute_result"
    }
   ],
   "source": [
    "#### ORDER BY SUBSTRING ##### \n",
    "### substr( string, start, length ) ##### \n",
    "cursor.execute('select ename from emp').fetchall()"
   ]
  },
  {
   "cell_type": "code",
   "execution_count": 42,
   "metadata": {},
   "outputs": [
    {
     "data": {
      "text/plain": [
       "[('ADAMS',),\n",
       " ('ALLEN',),\n",
       " ('BLAKE',),\n",
       " ('CLARK',),\n",
       " ('FORD',),\n",
       " ('JAMES',),\n",
       " ('JONES',),\n",
       " ('KING',),\n",
       " ('MARTIN',),\n",
       " ('MILLER',),\n",
       " ('SCOTT',),\n",
       " ('SMITH',),\n",
       " ('TURNER',),\n",
       " ('WARD',)]"
      ]
     },
     "execution_count": 42,
     "metadata": {},
     "output_type": "execute_result"
    }
   ],
   "source": [
    "sql_order_by_substring = 'select ename from emp order by ename asc'\n",
    "cursor.execute(sql_order_by_substring).fetchall()\n",
    "MS\n",
    "EN\n",
    "KE\n",
    "RK\n",
    "RD\n",
    "ES\n",
    "ES\n",
    "...."
   ]
  },
  {
   "cell_type": "code",
   "execution_count": 46,
   "metadata": {},
   "outputs": [
    {
     "data": {
      "text/plain": [
       "[('ADAMS',),\n",
       " ('ALLEN',),\n",
       " ('BLAKE',),\n",
       " ('CLARK',),\n",
       " ('FORD',),\n",
       " ('JAMES',),\n",
       " ('JONES',),\n",
       " ('KING',),\n",
       " ('MARTIN',),\n",
       " ('MILLER',),\n",
       " ('SCOTT',),\n",
       " ('SMITH',),\n",
       " ('TURNER',),\n",
       " ('WARD',)]"
      ]
     },
     "execution_count": 46,
     "metadata": {},
     "output_type": "execute_result"
    }
   ],
   "source": [
    "### length(str) - retorna o tamanho da string = número de caracteres\n",
    "### length(Nicolly) = 7 ; lly - substring(Nicolly,5) = lly\n",
    "sql_order_by_substring = 'select ename from emp order by substr(ename,1,2)'\n",
    "cursor.execute(sql_order_by_substring).fetchall()"
   ]
  },
  {
   "cell_type": "code",
   "execution_count": 51,
   "metadata": {},
   "outputs": [
    {
     "data": {
      "text/plain": [
       "[('CLARK',)]"
      ]
     },
     "execution_count": 51,
     "metadata": {},
     "output_type": "execute_result"
    }
   ],
   "source": [
    "#### selecionar nomes terminando com RK ou TH\n",
    "sql_substr = 'select ename from emp where substr(ename,length(ename)-1)=\"RK\"'\n",
    "cursor.execute(sql_substr).fetchall()"
   ]
  },
  {
   "cell_type": "code",
   "execution_count": 59,
   "metadata": {},
   "outputs": [
    {
     "data": {
      "text/plain": [
       "[('ANALYST', 2),\n",
       " ('CLERK', 4),\n",
       " ('MANAGER', 3),\n",
       " ('PRESIDENT', 1),\n",
       " ('SALESMAN', 4)]"
      ]
     },
     "execution_count": 59,
     "metadata": {},
     "output_type": "execute_result"
    }
   ],
   "source": [
    "#### SELECT \n",
    "###. group by using native functions - COUNT and AVG\n",
    "###  O que quero selecionar (atributos) \n",
    "### Por quem quero agrupar \n",
    "cursor.execute('select job, count(job) from emp group by job').fetchall()\n",
    "#sql = 'select job, count(job) from emp \n",
    "\n"
   ]
  },
  {
   "cell_type": "code",
   "execution_count": 187,
   "metadata": {},
   "outputs": [],
   "source": [
    "#### SELECT IN SELECT (SUBQUERIES)\n",
    "### Usar o resultado de um select como clausula de comparação para outro select \n"
   ]
  },
  {
   "cell_type": "markdown",
   "metadata": {},
   "source": [
    "### Quero obter o resultado abaixo, no entanto os atributos são de colunas diferentes\n",
    "\n",
    " \n",
    "ENAME       LOC\\\n",
    "----------  ----------\\\n",
    "CLARK        NEW YORK\\\n",
    "KING         NEW YORK\\\n",
    "MILLER       NEW YORK"
   ]
  },
  {
   "cell_type": "code",
   "execution_count": 200,
   "metadata": {},
   "outputs": [],
   "source": [
    "### Possível solução #### \n"
   ]
  },
  {
   "cell_type": "code",
   "execution_count": 63,
   "metadata": {},
   "outputs": [
    {
     "name": "stdout",
     "output_type": "stream",
     "text": [
      "(7369, 'SMITH', 'CLERK', 7902, '2005-12-11', 800.0, 150, 20, 20, 'RESEARCH', 'DALLAS')\n",
      "(7499, 'ALLEN', 'SALESMAN', 7698, '2006-02-23', 1600.0, 300, 30, 30, 'SALES', 'CHICAGO')\n",
      "(7521, 'WARD', 'SALESMAN', 7698, '2006-02-26', 1250.0, 500, 30, 30, 'SALES', 'CHICAGO')\n",
      "(7566, 'JONES', 'MANAGER', 7839, '2006-04-02', 2975.0, 520, 20, 20, 'RESEARCH', 'DALLAS')\n",
      "(7654, 'MARTIN', 'SALESMAN', 7698, '2006-09-28', 1400.0, 420, 30, 30, 'SALES', 'CHICAGO')\n",
      "(7698, 'BLAKE', 'MANAGER', 7839, '2006-05-1', 2850.0, 600, 30, 30, 'SALES', 'CHICAGO')\n",
      "(7782, 'CLARK', 'MANAGER', 7839, '2006-06-09', 2450.0, 580, 10, 10, 'ACCOUNTING', 'NEW YORK')\n",
      "(7788, 'SCOTT', 'ANALYST', 7566, '2007-12-09', 3000.0, 640, 20, 20, 'RESEARCH', 'DALLAS')\n",
      "(7839, 'KING', 'PRESIDENT', '', '2006-11-17', 5000.0, 0, 10, 10, 'ACCOUNTING', 'NEW YORK')\n",
      "(7844, 'TURNER', 'SALESMAN', 7698, '2006-09-13', 1500.0, 0, 30, 30, 'SALES', 'CHICAGO')\n",
      "(7876, 'ADAMS', 'CLERK', 7788, '2008-01-12', 1100.0, 50, 20, 20, 'RESEARCH', 'DALLAS')\n",
      "(7900, 'JAMES', 'CLERK', 7698, '2006-12-03', 950.0, 40, 30, 30, 'SALES', 'CHICAGO')\n",
      "(7902, 'FORD', 'ANALYST', 7566, '2006-12-03', 3000.0, 10, 20, 20, 'RESEARCH', 'DALLAS')\n",
      "(7934, 'MILLER', 'CLERK', 7782, '2007-01-23', 1300.0, '', 10, 10, 'ACCOUNTING', 'NEW YORK')\n"
     ]
    }
   ],
   "source": [
    "### Selecionar todos os infos dos empregados e departamentos - mesmo departamentos_ID\n",
    "cursor.execute('select * from dept').fetchall()\n",
    "sql_implicitJoin = 'select * from emp, dept where emp.deptno = dept.deptno'\n",
    "\n",
    "cursor.execute(sql_implicitJoin)\n",
    "data = cursor.fetchall()\n",
    "\n",
    "for row in data: \n",
    "    print(row)"
   ]
  },
  {
   "cell_type": "code",
   "execution_count": 18,
   "metadata": {
    "scrolled": true
   },
   "outputs": [
    {
     "data": {
      "text/plain": [
       "[('SMITH', 'RESEARCH'),\n",
       " ('ALLEN', 'SALES'),\n",
       " ('WARD', 'SALES'),\n",
       " ('JONES', 'RESEARCH'),\n",
       " ('MARTIN', 'SALES'),\n",
       " ('BLAKE', 'SALES'),\n",
       " ('CLARK', 'ACCOUNTING'),\n",
       " ('SCOTT', 'RESEARCH'),\n",
       " ('KING', 'ACCOUNTING'),\n",
       " ('TURNER', 'SALES'),\n",
       " ('ADAMS', 'RESEARCH'),\n",
       " ('JAMES', 'SALES'),\n",
       " ('FORD', 'RESEARCH'),\n",
       " ('MILLER', 'ACCOUNTING')]"
      ]
     },
     "execution_count": 18,
     "metadata": {},
     "output_type": "execute_result"
    }
   ],
   "source": [
    "### Selecionar somente os Nomes dos empregados e os nomes dos departamentos - \n",
    "sql_joinEmpDeptNames = 'select e.ename, d.dname from emp e,dept d where e.deptno=d.deptno'\n",
    "cursor.execute(sql_joinEmpDeptNames).fetchall()\n"
   ]
  },
  {
   "cell_type": "code",
   "execution_count": 22,
   "metadata": {},
   "outputs": [
    {
     "name": "stdout",
     "output_type": "stream",
     "text": [
      "(7369, 'SMITH', 'CLERK', 7902, '2005-12-11', 800.0, 150, 20, 20, 'RESEARCH', 'DALLAS')\n",
      "(7499, 'ALLEN', 'SALESMAN', 7698, '2006-02-23', 1600.0, 300, 30, 30, 'SALES', 'CHICAGO')\n",
      "(7521, 'WARD', 'SALESMAN', 7698, '2006-02-26', 1250.0, 500, 30, 30, 'SALES', 'CHICAGO')\n",
      "(7566, 'JONES', 'MANAGER', 7839, '2006-04-02', 2975.0, 520, 20, 20, 'RESEARCH', 'DALLAS')\n",
      "(7654, 'MARTIN', 'SALESMAN', 7698, '2006-09-28', 1400.0, 420, 30, 30, 'SALES', 'CHICAGO')\n",
      "(7698, 'BLAKE', 'MANAGER', 7839, '2006-05-1', 2850.0, 600, 30, 30, 'SALES', 'CHICAGO')\n",
      "(7782, 'CLARK', 'MANAGER', 7839, '2006-06-09', 2450.0, 580, 10, 10, 'ACCOUNTING', 'NEW YORK')\n",
      "(7788, 'SCOTT', 'ANALYST', 7566, '2007-12-09', 3000.0, 640, 20, 20, 'RESEARCH', 'DALLAS')\n",
      "(7839, 'KING', 'PRESIDENT', '', '2006-11-17', 5000.0, 0, 10, 10, 'ACCOUNTING', 'NEW YORK')\n",
      "(7844, 'TURNER', 'SALESMAN', 7698, '2006-09-13', 1500.0, 0, 30, 30, 'SALES', 'CHICAGO')\n",
      "(7876, 'ADAMS', 'CLERK', 7788, '2008-01-12', 1100.0, 50, 20, 20, 'RESEARCH', 'DALLAS')\n",
      "(7900, 'JAMES', 'CLERK', 7698, '2006-12-03', 950.0, 40, 30, 30, 'SALES', 'CHICAGO')\n",
      "(7902, 'FORD', 'ANALYST', 7566, '2006-12-03', 3000.0, 10, 20, 20, 'RESEARCH', 'DALLAS')\n",
      "(7934, 'MILLER', 'CLERK', 7782, '2007-01-23', 1300.0, '', 10, 10, 'ACCOUNTING', 'NEW YORK')\n",
      "(7000, 'CHARLES', 'CLERK', 7902, '2005-12-11', 800.0, 150, 40, 40, 'OPERATIONS', 'BOSTON')\n"
     ]
    }
   ],
   "source": [
    "                            #### INNER JOIN ##### \n",
    "###  In SQLite, the INNER JOIN selects all rows from both participating tables \n",
    "##   to appear in the result if and only if both tables meet the conditions specified \n",
    "##  in the ON clause\n",
    "## SELECT [result] from Tables [clausla de condicao ou comparacao]\n",
    "## SELECT [results] from [ 1a Tabela] INNER JOIN [2a Tabela] ON [condicao de JOIN]\n",
    "sql_inner_join = 'select * from emp as e INNER JOIN dept as d ON e.deptno=d.deptno'\n",
    "cursor.execute(sql_inner_join)\n",
    "for row in cursor.fetchall():\n",
    "    print(row)\n",
    "\n"
   ]
  },
  {
   "cell_type": "code",
   "execution_count": 23,
   "metadata": {},
   "outputs": [],
   "source": [
    "### INSERT  PARA TESTAR LEFT OUTER#### \n",
    "sql_insert = \"insert into emp values(7000, 'FLA', 'CLERK', 7902, '2005-12-11', 800.0, 150, 0)\"\n",
    "cursor.execute(sql_insert)\n",
    "engine.commit()\n"
   ]
  },
  {
   "cell_type": "code",
   "execution_count": 26,
   "metadata": {},
   "outputs": [
    {
     "data": {
      "text/plain": [
       "[(7000, 'FLA', 'CLERK', 7902, '2005-12-11', 800.0, 150, 0),\n",
       " (7000, 'FLA', 'CLERK', 7902, '2005-12-11', 800.0, 150, 0)]"
      ]
     },
     "execution_count": 26,
     "metadata": {},
     "output_type": "execute_result"
    }
   ],
   "source": [
    "cursor.execute('select * from emp where ename =\"FLA\"').fetchall()"
   ]
  },
  {
   "cell_type": "code",
   "execution_count": 27,
   "metadata": {},
   "outputs": [
    {
     "name": "stdout",
     "output_type": "stream",
     "text": [
      "(7369, 'SMITH', 'CLERK', 7902, '2005-12-11', 800.0, 150, 20, 20, 'RESEARCH', 'DALLAS')\n",
      "(7499, 'ALLEN', 'SALESMAN', 7698, '2006-02-23', 1600.0, 300, 30, 30, 'SALES', 'CHICAGO')\n",
      "(7521, 'WARD', 'SALESMAN', 7698, '2006-02-26', 1250.0, 500, 30, 30, 'SALES', 'CHICAGO')\n",
      "(7566, 'JONES', 'MANAGER', 7839, '2006-04-02', 2975.0, 520, 20, 20, 'RESEARCH', 'DALLAS')\n",
      "(7654, 'MARTIN', 'SALESMAN', 7698, '2006-09-28', 1400.0, 420, 30, 30, 'SALES', 'CHICAGO')\n",
      "(7698, 'BLAKE', 'MANAGER', 7839, '2006-05-1', 2850.0, 600, 30, 30, 'SALES', 'CHICAGO')\n",
      "(7782, 'CLARK', 'MANAGER', 7839, '2006-06-09', 2450.0, 580, 10, 10, 'ACCOUNTING', 'NEW YORK')\n",
      "(7788, 'SCOTT', 'ANALYST', 7566, '2007-12-09', 3000.0, 640, 20, 20, 'RESEARCH', 'DALLAS')\n",
      "(7839, 'KING', 'PRESIDENT', '', '2006-11-17', 5000.0, 0, 10, 10, 'ACCOUNTING', 'NEW YORK')\n",
      "(7844, 'TURNER', 'SALESMAN', 7698, '2006-09-13', 1500.0, 0, 30, 30, 'SALES', 'CHICAGO')\n",
      "(7876, 'ADAMS', 'CLERK', 7788, '2008-01-12', 1100.0, 50, 20, 20, 'RESEARCH', 'DALLAS')\n",
      "(7900, 'JAMES', 'CLERK', 7698, '2006-12-03', 950.0, 40, 30, 30, 'SALES', 'CHICAGO')\n",
      "(7902, 'FORD', 'ANALYST', 7566, '2006-12-03', 3000.0, 10, 20, 20, 'RESEARCH', 'DALLAS')\n",
      "(7934, 'MILLER', 'CLERK', 7782, '2007-01-23', 1300.0, '', 10, 10, 'ACCOUNTING', 'NEW YORK')\n",
      "(7000, 'CHARLES', 'CLERK', 7902, '2005-12-11', 800.0, 150, 40, 40, 'OPERATIONS', 'BOSTON')\n",
      "(7000, 'FLA', 'CLERK', 7902, '2005-12-11', 800.0, 150, 0, None, None, None)\n",
      "(7000, 'FLA', 'CLERK', 7902, '2005-12-11', 800.0, 150, 0, None, None, None)\n"
     ]
    }
   ],
   "source": [
    "                        #### LEFT OUTER JOIN #### \n",
    "###  The Left Join or Left Outer Join operation takes two relations, A and B, and returns\n",
    "###  the inner join of A and B along with the unmatched rows of A\n",
    "sql_left_join = 'select * from emp as e LEFT JOIN dept as d ON e.deptno=d.deptno'\n",
    "cursor.execute(sql_left_join)\n",
    "for row in cursor.fetchall(): \n",
    "    print(row)"
   ]
  },
  {
   "cell_type": "code",
   "execution_count": 30,
   "metadata": {},
   "outputs": [
    {
     "name": "stdout",
     "output_type": "stream",
     "text": [
      "(7369, 'SMITH', 'CLERK', 7902, '2005-12-11', 800.0, 150, 20, 10, 'ACCOUNTING', 'NEW YORK')\n",
      "(7369, 'SMITH', 'CLERK', 7902, '2005-12-11', 800.0, 150, 20, 20, 'RESEARCH', 'DALLAS')\n",
      "(7369, 'SMITH', 'CLERK', 7902, '2005-12-11', 800.0, 150, 20, 30, 'SALES', 'CHICAGO')\n",
      "(7369, 'SMITH', 'CLERK', 7902, '2005-12-11', 800.0, 150, 20, 40, 'OPERATIONS', 'BOSTON')\n",
      "(7499, 'ALLEN', 'SALESMAN', 7698, '2006-02-23', 1600.0, 300, 30, 10, 'ACCOUNTING', 'NEW YORK')\n",
      "(7499, 'ALLEN', 'SALESMAN', 7698, '2006-02-23', 1600.0, 300, 30, 20, 'RESEARCH', 'DALLAS')\n",
      "(7499, 'ALLEN', 'SALESMAN', 7698, '2006-02-23', 1600.0, 300, 30, 30, 'SALES', 'CHICAGO')\n",
      "(7499, 'ALLEN', 'SALESMAN', 7698, '2006-02-23', 1600.0, 300, 30, 40, 'OPERATIONS', 'BOSTON')\n",
      "(7521, 'WARD', 'SALESMAN', 7698, '2006-02-26', 1250.0, 500, 30, 10, 'ACCOUNTING', 'NEW YORK')\n",
      "(7521, 'WARD', 'SALESMAN', 7698, '2006-02-26', 1250.0, 500, 30, 20, 'RESEARCH', 'DALLAS')\n",
      "(7521, 'WARD', 'SALESMAN', 7698, '2006-02-26', 1250.0, 500, 30, 30, 'SALES', 'CHICAGO')\n",
      "(7521, 'WARD', 'SALESMAN', 7698, '2006-02-26', 1250.0, 500, 30, 40, 'OPERATIONS', 'BOSTON')\n",
      "(7566, 'JONES', 'MANAGER', 7839, '2006-04-02', 2975.0, 520, 20, 10, 'ACCOUNTING', 'NEW YORK')\n",
      "(7566, 'JONES', 'MANAGER', 7839, '2006-04-02', 2975.0, 520, 20, 20, 'RESEARCH', 'DALLAS')\n",
      "(7566, 'JONES', 'MANAGER', 7839, '2006-04-02', 2975.0, 520, 20, 30, 'SALES', 'CHICAGO')\n",
      "(7566, 'JONES', 'MANAGER', 7839, '2006-04-02', 2975.0, 520, 20, 40, 'OPERATIONS', 'BOSTON')\n",
      "(7654, 'MARTIN', 'SALESMAN', 7698, '2006-09-28', 1400.0, 420, 30, 10, 'ACCOUNTING', 'NEW YORK')\n",
      "(7654, 'MARTIN', 'SALESMAN', 7698, '2006-09-28', 1400.0, 420, 30, 20, 'RESEARCH', 'DALLAS')\n",
      "(7654, 'MARTIN', 'SALESMAN', 7698, '2006-09-28', 1400.0, 420, 30, 30, 'SALES', 'CHICAGO')\n",
      "(7654, 'MARTIN', 'SALESMAN', 7698, '2006-09-28', 1400.0, 420, 30, 40, 'OPERATIONS', 'BOSTON')\n",
      "(7698, 'BLAKE', 'MANAGER', 7839, '2006-05-1', 2850.0, 600, 30, 10, 'ACCOUNTING', 'NEW YORK')\n",
      "(7698, 'BLAKE', 'MANAGER', 7839, '2006-05-1', 2850.0, 600, 30, 20, 'RESEARCH', 'DALLAS')\n",
      "(7698, 'BLAKE', 'MANAGER', 7839, '2006-05-1', 2850.0, 600, 30, 30, 'SALES', 'CHICAGO')\n",
      "(7698, 'BLAKE', 'MANAGER', 7839, '2006-05-1', 2850.0, 600, 30, 40, 'OPERATIONS', 'BOSTON')\n",
      "(7782, 'CLARK', 'MANAGER', 7839, '2006-06-09', 2450.0, 580, 10, 10, 'ACCOUNTING', 'NEW YORK')\n",
      "(7782, 'CLARK', 'MANAGER', 7839, '2006-06-09', 2450.0, 580, 10, 20, 'RESEARCH', 'DALLAS')\n",
      "(7782, 'CLARK', 'MANAGER', 7839, '2006-06-09', 2450.0, 580, 10, 30, 'SALES', 'CHICAGO')\n",
      "(7782, 'CLARK', 'MANAGER', 7839, '2006-06-09', 2450.0, 580, 10, 40, 'OPERATIONS', 'BOSTON')\n",
      "(7788, 'SCOTT', 'ANALYST', 7566, '2007-12-09', 3000.0, 640, 20, 10, 'ACCOUNTING', 'NEW YORK')\n",
      "(7788, 'SCOTT', 'ANALYST', 7566, '2007-12-09', 3000.0, 640, 20, 20, 'RESEARCH', 'DALLAS')\n",
      "(7788, 'SCOTT', 'ANALYST', 7566, '2007-12-09', 3000.0, 640, 20, 30, 'SALES', 'CHICAGO')\n",
      "(7788, 'SCOTT', 'ANALYST', 7566, '2007-12-09', 3000.0, 640, 20, 40, 'OPERATIONS', 'BOSTON')\n",
      "(7839, 'KING', 'PRESIDENT', '', '2006-11-17', 5000.0, 0, 10, 10, 'ACCOUNTING', 'NEW YORK')\n",
      "(7839, 'KING', 'PRESIDENT', '', '2006-11-17', 5000.0, 0, 10, 20, 'RESEARCH', 'DALLAS')\n",
      "(7839, 'KING', 'PRESIDENT', '', '2006-11-17', 5000.0, 0, 10, 30, 'SALES', 'CHICAGO')\n",
      "(7839, 'KING', 'PRESIDENT', '', '2006-11-17', 5000.0, 0, 10, 40, 'OPERATIONS', 'BOSTON')\n",
      "(7844, 'TURNER', 'SALESMAN', 7698, '2006-09-13', 1500.0, 0, 30, 10, 'ACCOUNTING', 'NEW YORK')\n",
      "(7844, 'TURNER', 'SALESMAN', 7698, '2006-09-13', 1500.0, 0, 30, 20, 'RESEARCH', 'DALLAS')\n",
      "(7844, 'TURNER', 'SALESMAN', 7698, '2006-09-13', 1500.0, 0, 30, 30, 'SALES', 'CHICAGO')\n",
      "(7844, 'TURNER', 'SALESMAN', 7698, '2006-09-13', 1500.0, 0, 30, 40, 'OPERATIONS', 'BOSTON')\n",
      "(7876, 'ADAMS', 'CLERK', 7788, '2008-01-12', 1100.0, 50, 20, 10, 'ACCOUNTING', 'NEW YORK')\n",
      "(7876, 'ADAMS', 'CLERK', 7788, '2008-01-12', 1100.0, 50, 20, 20, 'RESEARCH', 'DALLAS')\n",
      "(7876, 'ADAMS', 'CLERK', 7788, '2008-01-12', 1100.0, 50, 20, 30, 'SALES', 'CHICAGO')\n",
      "(7876, 'ADAMS', 'CLERK', 7788, '2008-01-12', 1100.0, 50, 20, 40, 'OPERATIONS', 'BOSTON')\n",
      "(7900, 'JAMES', 'CLERK', 7698, '2006-12-03', 950.0, 40, 30, 10, 'ACCOUNTING', 'NEW YORK')\n",
      "(7900, 'JAMES', 'CLERK', 7698, '2006-12-03', 950.0, 40, 30, 20, 'RESEARCH', 'DALLAS')\n",
      "(7900, 'JAMES', 'CLERK', 7698, '2006-12-03', 950.0, 40, 30, 30, 'SALES', 'CHICAGO')\n",
      "(7900, 'JAMES', 'CLERK', 7698, '2006-12-03', 950.0, 40, 30, 40, 'OPERATIONS', 'BOSTON')\n",
      "(7902, 'FORD', 'ANALYST', 7566, '2006-12-03', 3000.0, 10, 20, 10, 'ACCOUNTING', 'NEW YORK')\n",
      "(7902, 'FORD', 'ANALYST', 7566, '2006-12-03', 3000.0, 10, 20, 20, 'RESEARCH', 'DALLAS')\n",
      "(7902, 'FORD', 'ANALYST', 7566, '2006-12-03', 3000.0, 10, 20, 30, 'SALES', 'CHICAGO')\n",
      "(7902, 'FORD', 'ANALYST', 7566, '2006-12-03', 3000.0, 10, 20, 40, 'OPERATIONS', 'BOSTON')\n",
      "(7934, 'MILLER', 'CLERK', 7782, '2007-01-23', 1300.0, '', 10, 10, 'ACCOUNTING', 'NEW YORK')\n",
      "(7934, 'MILLER', 'CLERK', 7782, '2007-01-23', 1300.0, '', 10, 20, 'RESEARCH', 'DALLAS')\n",
      "(7934, 'MILLER', 'CLERK', 7782, '2007-01-23', 1300.0, '', 10, 30, 'SALES', 'CHICAGO')\n",
      "(7934, 'MILLER', 'CLERK', 7782, '2007-01-23', 1300.0, '', 10, 40, 'OPERATIONS', 'BOSTON')\n",
      "(7000, 'CHARLES', 'CLERK', 7902, '2005-12-11', 800.0, 150, 40, 10, 'ACCOUNTING', 'NEW YORK')\n",
      "(7000, 'CHARLES', 'CLERK', 7902, '2005-12-11', 800.0, 150, 40, 20, 'RESEARCH', 'DALLAS')\n",
      "(7000, 'CHARLES', 'CLERK', 7902, '2005-12-11', 800.0, 150, 40, 30, 'SALES', 'CHICAGO')\n",
      "(7000, 'CHARLES', 'CLERK', 7902, '2005-12-11', 800.0, 150, 40, 40, 'OPERATIONS', 'BOSTON')\n",
      "(7000, 'FLA', 'CLERK', 7902, '2005-12-11', 800.0, 150, 0, 10, 'ACCOUNTING', 'NEW YORK')\n",
      "(7000, 'FLA', 'CLERK', 7902, '2005-12-11', 800.0, 150, 0, 20, 'RESEARCH', 'DALLAS')\n",
      "(7000, 'FLA', 'CLERK', 7902, '2005-12-11', 800.0, 150, 0, 30, 'SALES', 'CHICAGO')\n",
      "(7000, 'FLA', 'CLERK', 7902, '2005-12-11', 800.0, 150, 0, 40, 'OPERATIONS', 'BOSTON')\n",
      "(7000, 'FLA', 'CLERK', 7902, '2005-12-11', 800.0, 150, 0, 10, 'ACCOUNTING', 'NEW YORK')\n",
      "(7000, 'FLA', 'CLERK', 7902, '2005-12-11', 800.0, 150, 0, 20, 'RESEARCH', 'DALLAS')\n",
      "(7000, 'FLA', 'CLERK', 7902, '2005-12-11', 800.0, 150, 0, 30, 'SALES', 'CHICAGO')\n",
      "(7000, 'FLA', 'CLERK', 7902, '2005-12-11', 800.0, 150, 0, 40, 'OPERATIONS', 'BOSTON')\n"
     ]
    }
   ],
   "source": [
    "                         #### CROSS JOIN or CARTESIAN JOIN ####     \n",
    "###  The Cartesian join is one of the fundamental relational operations. \n",
    "###  It is a kind of join that results in the combination of all rows from the \n",
    "##   first table with all rows in the second.\n",
    "sql_cross_join = 'select * from emp CROSS JOIN dept'\n",
    "cursor.execute(sql_cross_join)\n",
    "for row in cursor.fetchall():\n",
    "    print(row)\n"
   ]
  },
  {
   "cell_type": "markdown",
   "metadata": {},
   "source": [
    "EMPNO        RECEIVED          TYPE\n",
    " ----------  ----------- ----------\n",
    "       7369  14-MAR-2005          1\n",
    "       7900  14-MAR-2005          2\n",
    "       7788  14-MAR-2005          3"
   ]
  },
  {
   "cell_type": "code",
   "execution_count": 31,
   "metadata": {},
   "outputs": [
    {
     "data": {
      "text/plain": [
       "[(0, 'empno', 'int', 0, None, 0),\n",
       " (1, 'received', 'date', 0, None, 0),\n",
       " (2, 'type', 'int', 0, None, 0)]"
      ]
     },
     "execution_count": 31,
     "metadata": {},
     "output_type": "execute_result"
    }
   ],
   "source": [
    "sql_create ='create table emp_bonus(empno int, received date, type int)'\n",
    "cursor.execute(sql_create)\n",
    "engine.commit()\n",
    "cursor.execute('PRAGMA table_info(emp_bonus)').fetchall()"
   ]
  },
  {
   "cell_type": "code",
   "execution_count": 32,
   "metadata": {},
   "outputs": [
    {
     "data": {
      "text/plain": [
       "[(7369, '02-MAR-2001', 1), (7900, '23-MAY-2020', 2), (7788, '01-JAN-2010', 1)]"
      ]
     },
     "execution_count": 32,
     "metadata": {},
     "output_type": "execute_result"
    }
   ],
   "source": [
    "bonus_list = [(7369,'02-MAR-2001',1),(7900,'23-MAY-2020',2),(7788,'01-JAN-2010',1)]\n",
    "sql_insert = 'insert into emp_bonus values(?,?,?)'\n",
    "cursor.executemany(sql_insert,bonus_list)\n",
    "engine.commit()\n",
    "cursor.execute('select * from emp_bonus').fetchall()"
   ]
  },
  {
   "cell_type": "code",
   "execution_count": 37,
   "metadata": {},
   "outputs": [
    {
     "data": {
      "text/plain": [
       "[('CHARLES', 'BOSTON', None),\n",
       " ('ALLEN', 'CHICAGO', None),\n",
       " ('WARD', 'CHICAGO', None),\n",
       " ('MARTIN', 'CHICAGO', None),\n",
       " ('BLAKE', 'CHICAGO', None),\n",
       " ('TURNER', 'CHICAGO', None),\n",
       " ('JAMES', 'CHICAGO', '23-MAY-2020'),\n",
       " ('SMITH', 'DALLAS', '02-MAR-2001'),\n",
       " ('JONES', 'DALLAS', None),\n",
       " ('SCOTT', 'DALLAS', '01-JAN-2010'),\n",
       " ('ADAMS', 'DALLAS', None),\n",
       " ('FORD', 'DALLAS', None),\n",
       " ('CLARK', 'NEW YORK', None),\n",
       " ('KING', 'NEW YORK', None),\n",
       " ('MILLER', 'NEW YORK', None)]"
      ]
     },
     "execution_count": 37,
     "metadata": {},
     "output_type": "execute_result"
    }
   ],
   "source": [
    "sql_multiple_joins = 'select e.ename, d.loc, b.received from emp e\\\n",
    "                        INNER JOIN dept d\\\n",
    "                        ON (e.deptno = d.deptno)\\\n",
    "                        LEFT JOIN emp_bonus b\\\n",
    "                        ON (e.empno = b.empno) order by 2'\n",
    "cursor.execute(sql_multiple_joins).fetchall()"
   ]
  },
  {
   "cell_type": "markdown",
   "metadata": {},
   "source": [
    "ENAME         LOC            RECEIVED\n",
    "----------  -------------  -----------\n",
    "ALLEN       CHICAGO\n",
    "WARD        CHICAGO\n",
    "MARTIN      CHICAGO\n",
    "JAMES       CHICAGO        02-MAR-2001\n",
    "TURNER      CHICAGO\n",
    "BLAKE       CHICAGO\n",
    "SMITH       DALLAS         23-MAY-2029\n",
    "FORD        DALLAS\n",
    "ADAMS       DALLAS\n",
    "JONES       DALLAS\n",
    "SCOTT       DALLAS         01-JAN-2010\n",
    "CLARK       NEW YORK\n",
    "KING        NEW YORK\n",
    "MILLER      NEW YORK"
   ]
  },
  {
   "cell_type": "markdown",
   "metadata": {},
   "source": [
    "<h2>About the Author:</h2> \n",
    "\n",
    "<a href=\"https://www.linkedin.com/in/wanderson-torres-31049522/\">Wanderson Torres</a>\n"
   ]
  }
 ],
 "metadata": {
  "kernelspec": {
   "display_name": "Python 3",
   "language": "python",
   "name": "python3"
  },
  "language_info": {
   "codemirror_mode": {
    "name": "ipython",
    "version": 3
   },
   "file_extension": ".py",
   "mimetype": "text/x-python",
   "name": "python",
   "nbconvert_exporter": "python",
   "pygments_lexer": "ipython3",
   "version": "3.8.3"
  }
 },
 "nbformat": 4,
 "nbformat_minor": 4
}
