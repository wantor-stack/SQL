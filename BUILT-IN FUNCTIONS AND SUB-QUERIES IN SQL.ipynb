{
 "cells": [
  {
   "cell_type": "markdown",
   "metadata": {},
   "source": [
    "<center>\n",
    "    <img src=\"https://s3-api.us-geo.objectstorage.softlayer.net/cf-courses-data/CognitiveClass/Logos/organization_logo/organization_logo.png\" width=\"300\" alt=\"cognitiveclass.ai logo\"  />\n",
    "</center>\n",
    "\n",
    "# Built-in Functions and Sub-queries in SQL\n",
    "\n",
    "### This Notebook is a part of my studies for IBM Certification in Data Science Professional\n",
    "\n",
    "## What I learned:\n",
    "\n",
    "- Aggregate, Scalar, String, Date and Time Functions\n",
    "- Sub-queries and Nested Selects\n",
    "- Write SQL queries that demonstrate the necessity of using sub-queries\n",
    "- Compose sub-queries in the where clause\n",
    "- Build Column Expressions (i.e. sub-query in place of a column)\n",
    "- Write Table Expressions (i.e. sub-query in place of a table)\n"
   ]
  },
  {
   "cell_type": "markdown",
   "metadata": {
    "toc": true
   },
   "source": [
    "<h1>Table of Contents<span class=\"tocSkip\"></span></h1>\n",
    "<div class=\"toc\"><ul class=\"toc-item\"><li><span><a href=\"#Built-in-functions---Aggregate,-Scalar,-String,-Date-and-Time-Functions\" data-toc-modified-id=\"Built-in-functions---Aggregate,-Scalar,-String,-Date-and-Time-Functions-1\"><span class=\"toc-item-num\">1&nbsp;&nbsp;</span>Built-in functions - Aggregate, Scalar, String, Date and Time Functions</a></span><ul class=\"toc-item\"><li><span><a href=\"#Aggregate-Functions\" data-toc-modified-id=\"Aggregate-Functions-1.1\"><span class=\"toc-item-num\">1.1&nbsp;&nbsp;</span>Aggregate Functions</a></span><ul class=\"toc-item\"><li><span><a href=\"#Problem-1\" data-toc-modified-id=\"Problem-1-1.1.1\"><span class=\"toc-item-num\">1.1.1&nbsp;&nbsp;</span>Problem 1</a></span></li><li><span><a href=\"#Problem-2\" data-toc-modified-id=\"Problem-2-1.1.2\"><span class=\"toc-item-num\">1.1.2&nbsp;&nbsp;</span>Problem 2</a></span></li><li><span><a href=\"#Problem-3\" data-toc-modified-id=\"Problem-3-1.1.3\"><span class=\"toc-item-num\">1.1.3&nbsp;&nbsp;</span>Problem 3</a></span></li><li><span><a href=\"#Problem-4\" data-toc-modified-id=\"Problem-4-1.1.4\"><span class=\"toc-item-num\">1.1.4&nbsp;&nbsp;</span>Problem 4</a></span></li><li><span><a href=\"#Problem-5\" data-toc-modified-id=\"Problem-5-1.1.5\"><span class=\"toc-item-num\">1.1.5&nbsp;&nbsp;</span>Problem 5</a></span></li></ul></li><li><span><a href=\"#Scalar-and-String-Functions\" data-toc-modified-id=\"Scalar-and-String-Functions-1.2\"><span class=\"toc-item-num\">1.2&nbsp;&nbsp;</span>Scalar and String Functions</a></span><ul class=\"toc-item\"><li><span><a href=\"#Problem-1\" data-toc-modified-id=\"Problem-1-1.2.1\"><span class=\"toc-item-num\">1.2.1&nbsp;&nbsp;</span>Problem 1</a></span></li><li><span><a href=\"#Problem-2\" data-toc-modified-id=\"Problem-2-1.2.2\"><span class=\"toc-item-num\">1.2.2&nbsp;&nbsp;</span>Problem 2</a></span></li><li><span><a href=\"#Problem-3\" data-toc-modified-id=\"Problem-3-1.2.3\"><span class=\"toc-item-num\">1.2.3&nbsp;&nbsp;</span>Problem 3</a></span></li><li><span><a href=\"#Problem-4\" data-toc-modified-id=\"Problem-4-1.2.4\"><span class=\"toc-item-num\">1.2.4&nbsp;&nbsp;</span>Problem 4</a></span></li><li><span><a href=\"#Problem-5\" data-toc-modified-id=\"Problem-5-1.2.5\"><span class=\"toc-item-num\">1.2.5&nbsp;&nbsp;</span>Problem 5</a></span></li></ul></li><li><span><a href=\"#Date-and-Time-Functions\" data-toc-modified-id=\"Date-and-Time-Functions-1.3\"><span class=\"toc-item-num\">1.3&nbsp;&nbsp;</span>Date and Time Functions</a></span><ul class=\"toc-item\"><li><span><a href=\"#Problem-1\" data-toc-modified-id=\"Problem-1-1.3.1\"><span class=\"toc-item-num\">1.3.1&nbsp;&nbsp;</span>Problem 1</a></span></li><li><span><a href=\"#Problem-2\" data-toc-modified-id=\"Problem-2-1.3.2\"><span class=\"toc-item-num\">1.3.2&nbsp;&nbsp;</span>Problem 2</a></span></li><li><span><a href=\"#Problem-3\" data-toc-modified-id=\"Problem-3-1.3.3\"><span class=\"toc-item-num\">1.3.3&nbsp;&nbsp;</span>Problem 3</a></span></li><li><span><a href=\"#Problem-4\" data-toc-modified-id=\"Problem-4-1.3.4\"><span class=\"toc-item-num\">1.3.4&nbsp;&nbsp;</span>Problem 4</a></span></li><li><span><a href=\"#Problem-5\" data-toc-modified-id=\"Problem-5-1.3.5\"><span class=\"toc-item-num\">1.3.5&nbsp;&nbsp;</span>Problem 5</a></span></li></ul></li></ul></li><li><span><a href=\"#Sub-queries-and-Nested-Selects\" data-toc-modified-id=\"Sub-queries-and-Nested-Selects-2\"><span class=\"toc-item-num\">2&nbsp;&nbsp;</span>Sub-queries and Nested Selects</a></span><ul class=\"toc-item\"><li><span><a href=\"#EXAMPLES\" data-toc-modified-id=\"EXAMPLES-2.1\"><span class=\"toc-item-num\">2.1&nbsp;&nbsp;</span>EXAMPLES</a></span><ul class=\"toc-item\"><li><span><a href=\"#Problem-1\" data-toc-modified-id=\"Problem-1-2.1.1\"><span class=\"toc-item-num\">2.1.1&nbsp;&nbsp;</span>Problem 1</a></span></li><li><span><a href=\"#Problem-2\" data-toc-modified-id=\"Problem-2-2.1.2\"><span class=\"toc-item-num\">2.1.2&nbsp;&nbsp;</span>Problem 2</a></span></li><li><span><a href=\"#Problem-3\" data-toc-modified-id=\"Problem-3-2.1.3\"><span class=\"toc-item-num\">2.1.3&nbsp;&nbsp;</span>Problem 3</a></span></li><li><span><a href=\"#Problem-4\" data-toc-modified-id=\"Problem-4-2.1.4\"><span class=\"toc-item-num\">2.1.4&nbsp;&nbsp;</span>Problem 4</a></span></li><li><span><a href=\"#Problem-5\" data-toc-modified-id=\"Problem-5-2.1.5\"><span class=\"toc-item-num\">2.1.5&nbsp;&nbsp;</span>Problem 5</a></span></li></ul></li></ul></li></ul></div>"
   ]
  },
  {
   "cell_type": "markdown",
   "metadata": {},
   "source": [
    "# Built-in functions - Aggregate, Scalar, String, Date and Time Functions\n"
   ]
  },
  {
   "cell_type": "markdown",
   "metadata": {
    "heading_collapsed": true
   },
   "source": [
    "## Aggregate Functions"
   ]
  },
  {
   "cell_type": "markdown",
   "metadata": {
    "hidden": true
   },
   "source": [
    "### Problem 1\n",
    "    Enter a function that calculates the total cost of all animal rescues in the PETRESCUE table.\n",
    " \n",
    "Solution:\n",
    "    \n",
    " > select SUM(COST) from PETRESCUE;"
   ]
  },
  {
   "cell_type": "markdown",
   "metadata": {},
   "source": [
    "### Problem 2\n",
    "    Enter a function that displays the total cost of all animal rescues in the PETRESCUE table in a column called SUM_OF_COST.\n",
    " \n",
    "Solution:\n",
    "    \n",
    " > select SUM(COST) AS SUM_OF_COST from PETRESCUE"
   ]
  },
  {
   "cell_type": "markdown",
   "metadata": {},
   "source": [
    "### Problem 3\n",
    "    Enter a function that displays the maximum quantity of animals rescued.\n",
    " \n",
    "Solution:\n",
    "    \n",
    " > select MAX(QUANTITY) from PETRESCUE;"
   ]
  },
  {
   "cell_type": "markdown",
   "metadata": {},
   "source": [
    "### Problem 4\n",
    "     Enter a function that displays the average cost of animals rescued.\n",
    " \n",
    "Solution:\n",
    "    \n",
    " > select AVG(COST) from PETRESCUE;"
   ]
  },
  {
   "cell_type": "markdown",
   "metadata": {},
   "source": [
    "### Problem 5\n",
    "    Enter a function that displays the average cost of rescuing a dog.\n",
    " \n",
    "Solution:\n",
    "    \n",
    " > select AVG( COST / QUANTITY ) from PETRESCUE where ANIMAL = 'Dog';"
   ]
  },
  {
   "cell_type": "markdown",
   "metadata": {
    "ExecuteTime": {
     "end_time": "2021-02-27T20:05:43.924800Z",
     "start_time": "2021-02-27T20:05:43.639287Z"
    },
    "heading_collapsed": true
   },
   "source": [
    "## Scalar and String Functions"
   ]
  },
  {
   "cell_type": "markdown",
   "metadata": {},
   "source": [
    "### Problem 1\n",
    "    Enter a function that displays the rounded cost of each rescue.\n",
    " \n",
    "Solution:\n",
    "    \n",
    " > select ROUND(COST) from PETRESCUE;"
   ]
  },
  {
   "cell_type": "markdown",
   "metadata": {},
   "source": [
    "### Problem 2\n",
    "    Enter a function that displays the length of each animal name.\n",
    " \n",
    "Solution:\n",
    "    \n",
    " > select LENGTH(ANIMAL) from PETRESCUE;"
   ]
  },
  {
   "cell_type": "markdown",
   "metadata": {},
   "source": [
    "### Problem 3\n",
    "    Enter a function that displays the animal name in each rescue in uppercase.\n",
    " \n",
    "Solution:\n",
    "    \n",
    " > select UCASE(ANIMAL) from PETRESCUE;"
   ]
  },
  {
   "cell_type": "markdown",
   "metadata": {},
   "source": [
    "### Problem 4\n",
    "    Enter a function that displays the animal name in each rescue in uppercase without duplications.\n",
    " \n",
    "Solution:\n",
    "    \n",
    " > select DISTINCT(UCASE(ANIMAL)) from PETRESCUE;"
   ]
  },
  {
   "cell_type": "markdown",
   "metadata": {},
   "source": [
    "### Problem 5\n",
    "    Enter a query that displays all the columns from the PETRESCUE table, where the animal(s) rescued are cats. Use cat in lower case in the query.\n",
    " \n",
    "Solution:\n",
    "    \n",
    " > select * from PETRESCUE where LCASE(ANIMAL) = 'cat';"
   ]
  },
  {
   "cell_type": "markdown",
   "metadata": {},
   "source": [
    "## Date and Time Functions"
   ]
  },
  {
   "cell_type": "markdown",
   "metadata": {},
   "source": [
    "### Problem 1\n",
    "    Enter a function that displays the day of the month when cats have been rescued.\n",
    " \n",
    "Solution:\n",
    "    \n",
    " > select DAY(RESCUEDATE) from PETRESCUE where ANIMAL = 'Cat';"
   ]
  },
  {
   "cell_type": "markdown",
   "metadata": {},
   "source": [
    "### Problem 2\n",
    "    Enter a function that displays the number of rescues on the 5th month.\n",
    " \n",
    "Solution:\n",
    "    \n",
    " > select SUM(QUANTITY) from PETRESCUE where MONTH(RESCUEDATE)='05';"
   ]
  },
  {
   "cell_type": "markdown",
   "metadata": {},
   "source": [
    "### Problem 3\n",
    "    Enter a function that displays the number of rescues on the 14th day of the month.\n",
    " \n",
    "Solution:\n",
    "    \n",
    " > select SUM(QUANTITY) from PETRESCUE where DAY(RESCUEDATE)='14';"
   ]
  },
  {
   "cell_type": "markdown",
   "metadata": {},
   "source": [
    "### Problem 4\n",
    "    Animals rescued should see the vet within three days of arrivals. Enter a function that displays the third day from each rescue.\n",
    " \n",
    "Solution:\n",
    "    \n",
    " > select (RESCUEDATE + 3 DAYS) from PETRESCUE;"
   ]
  },
  {
   "cell_type": "markdown",
   "metadata": {},
   "source": [
    "### Problem 5\n",
    "    Enter a function that displays the length of time the animals have been rescued; the difference between today’s date and the recue date.\n",
    " \n",
    "Solution:\n",
    "    \n",
    " > select (CURRENT DATE - RESCUEDATE) from PETRESCUE;"
   ]
  },
  {
   "cell_type": "markdown",
   "metadata": {},
   "source": [
    "# Sub-queries and Nested Selects"
   ]
  },
  {
   "cell_type": "code",
   "execution_count": null,
   "metadata": {},
   "outputs": [],
   "source": [
    "\"\"\"\n",
    "SELECT column1 FROM table\n",
    "WHERE column2 = (SELECT MAX(column2 FROM table))\n",
    "\"\"\""
   ]
  },
  {
   "cell_type": "code",
   "execution_count": null,
   "metadata": {},
   "outputs": [],
   "source": [
    "'''\n",
    "OBS: Cannot evaluate Aggregate Functions like AVG() in the WHERE clause -\n",
    "    We have to use a sub-select expression, f.ex.:\n",
    "    \n",
    "    select EMP_ID, F_NAME, L_NAME, SALARY\n",
    "        from employees\n",
    "        where SALARY < (select AVG(SALARY) from employees).\n",
    "    \n",
    "'''"
   ]
  },
  {
   "cell_type": "code",
   "execution_count": null,
   "metadata": {},
   "outputs": [],
   "source": [
    "\"\"\"\n",
    "Sub-queries in a list of columns\n",
    "    --> Substitute columns name with sub-query\n",
    "    --> Called Column Expressions\n",
    "f.e:\n",
    "\n",
    "    select EMP_ID, SALARY, (select AVG(SALARY) from employees) AS AVG_SALARY\n",
    "        from employees\n",
    "\n",
    "\"\"\""
   ]
  },
  {
   "cell_type": "code",
   "execution_count": null,
   "metadata": {},
   "outputs": [],
   "source": [
    "\"\"\"\n",
    "Sub-queries in a FROM clause:\n",
    "    --> Substitute the TABLE name with a sub-query\n",
    "    --> Called Derived Tables or Table Expressions\n",
    "f.e:\n",
    "\n",
    "    select * \n",
    "    from ( select EMP_ID, F_NAME, L_NAME, DEP_ID from employees) AS EMP4ALL\n",
    "\n",
    "\"\"\""
   ]
  },
  {
   "cell_type": "markdown",
   "metadata": {},
   "source": [
    "## EXAMPLES\n"
   ]
  },
  {
   "cell_type": "markdown",
   "metadata": {},
   "source": [
    "In this lab, I used an IBM Db2 Database. Db2 is a Relational Database Management System (RDBMS) from IBM, designed to store, analyze and retrieve data efficiently.\n",
    "\n",
    "<br>\n",
    "I will be working on a sample HR database. This HR database schema consists of 5 tables called EMPLOYEES, JOB_HISTORY, JOBS, DEPARTMENTS and LOCATIONS. Each table has a few rows of sample data.\n",
    "<br>"
   ]
  },
  {
   "cell_type": "markdown",
   "metadata": {},
   "source": [
    "The following diagram shows the tables for the HR database:  \n",
    "<br>\n",
    "<br>\n",
    "\n",
    "<img src=\"images/HR_Database.png\" alt=\"HR_Database\" style=\"height: 700px; width:700px;\"/>"
   ]
  },
  {
   "cell_type": "markdown",
   "metadata": {},
   "source": [
    "### Problem 1\n",
    "    Execute a failing query (i.e. one which gives an error) to retrieve all employees records whose salary is lower than the average salary.\n",
    " \n",
    "Solution:\n",
    "    \n",
    " > select * <br>\n",
    "   from employees <br>\n",
    "   where salary < AVG(salary);"
   ]
  },
  {
   "cell_type": "markdown",
   "metadata": {},
   "source": [
    "### Problem 2\n",
    "    Execute a working query using a sub-select to retrieve all employees records whose salary is lower than the average salary.\n",
    " \n",
    "Solution:\n",
    "    \n",
    " > select EMP_ID, F_NAME, L_NAME, SALARY  <br>\n",
    "   from employees <br>\n",
    "   where SALARY < (select AVG(SALARY) \n",
    "                   from employees);"
   ]
  },
  {
   "cell_type": "markdown",
   "metadata": {},
   "source": [
    "### Problem 3\n",
    "    Execute a failing query (i.e. one which gives an error) to retrieve all employees records with EMP_ID, SALARY and maximum salary as MAX_SALARY in every row.\n",
    " \n",
    "Solution:\n",
    "    \n",
    " > select EMP_ID, SALARY, MAX(SALARY) AS MAX_SALARY  <br>\n",
    "   from employees; <br>\n",
    "  "
   ]
  },
  {
   "cell_type": "markdown",
   "metadata": {},
   "source": [
    "### Problem 4\n",
    "    Execute a Column Expression that retrieves all employees records with EMP_ID, SALARY and maximum salary as MAX_SALARY in every row.\n",
    " \n",
    "Solution:\n",
    "    \n",
    " > select select EMP_ID, SALARY, ( select MAX(SALARY) from employees ) AS MAX_SALARY  <br>\n",
    "   from employees; <br>\n"
   ]
  },
  {
   "cell_type": "markdown",
   "metadata": {},
   "source": [
    "### Problem 5\n",
    "    Execute a Table Expression for the EMPLOYEES table that excludes columns with sensitive employee data (i.e. does not include columns: SSN, B_DATE, SEX, ADDRESS, SALARY).\n",
    " \n",
    "Solution:\n",
    "    \n",
    " > select * <br>\n",
    "   from ( select EMP_ID, F_NAME, L_NAME, DEP_ID from employees) AS EMP4ALL; <br>\n",
    "   "
   ]
  },
  {
   "cell_type": "markdown",
   "metadata": {},
   "source": [
    "<h2>About the Author:</h2> \n",
    "\n",
    "<a href=\"https://www.linkedin.com/in/wanderson-torres-31049522/\">Wanderson Torres</a>\n"
   ]
  }
 ],
 "metadata": {
  "hide_input": false,
  "kernelspec": {
   "display_name": "Python 3",
   "language": "python",
   "name": "python3"
  },
  "language_info": {
   "codemirror_mode": {
    "name": "ipython",
    "version": 3
   },
   "file_extension": ".py",
   "mimetype": "text/x-python",
   "name": "python",
   "nbconvert_exporter": "python",
   "pygments_lexer": "ipython3",
   "version": "3.8.3"
  },
  "toc": {
   "base_numbering": 1,
   "nav_menu": {},
   "number_sections": true,
   "sideBar": true,
   "skip_h1_title": false,
   "title_cell": "Table of Contents",
   "title_sidebar": "Contents",
   "toc_cell": true,
   "toc_position": {},
   "toc_section_display": true,
   "toc_window_display": false
  },
  "varInspector": {
   "cols": {
    "lenName": 16,
    "lenType": 16,
    "lenVar": 40
   },
   "kernels_config": {
    "python": {
     "delete_cmd_postfix": "",
     "delete_cmd_prefix": "del ",
     "library": "var_list.py",
     "varRefreshCmd": "print(var_dic_list())"
    },
    "r": {
     "delete_cmd_postfix": ") ",
     "delete_cmd_prefix": "rm(",
     "library": "var_list.r",
     "varRefreshCmd": "cat(var_dic_list()) "
    }
   },
   "types_to_exclude": [
    "module",
    "function",
    "builtin_function_or_method",
    "instance",
    "_Feature"
   ],
   "window_display": false
  }
 },
 "nbformat": 4,
 "nbformat_minor": 4
}
